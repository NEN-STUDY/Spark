{
 "cells": [
  {
   "cell_type": "markdown",
   "metadata": {
    "application/vnd.databricks.v1+cell": {
     "inputWidgets": {},
     "nuid": "b38a42e1-4fa8-4aa1-9f10-391adc4866c4",
     "showTitle": false,
     "title": ""
    }
   },
   "source": [
    "# 스파크 기능 둘러보기"
   ]
  },
  {
   "cell_type": "markdown",
   "metadata": {},
   "source": [
    "## 스파크의 기능\n",
    "- 저수준 API\n",
    "    - RDD\n",
    "    - 분산형 변수\n",
    "- 구조적 API\n",
    "    - Dataset\n",
    "    - DataFrame\n",
    "    - SQL\n",
    "- 구조적 스트리밍\n",
    "- 고급 분석\n",
    "- 라이브러리 및 에코시스템"
   ]
  },
  {
   "cell_type": "markdown",
   "metadata": {
    "application/vnd.databricks.v1+cell": {
     "inputWidgets": {},
     "nuid": "9f6e9b7a-0f01-453e-9b6e-4ced10f66838",
     "showTitle": false,
     "title": ""
    }
   },
   "source": [
    "## 운영용 애플리케이션 실행하기\n",
    "- <strong>spark-submit</strong> 명령을 사용하면 대화형 셀에서 개발한 프로그램을 운영용 애플리케이션으로 전환\n",
    "  - spark-submit 명령은 <strong>애플리케이션 코드를 클러스터에 전송해 실행</strong>시키는 역할을 함\n",
    "  - 클러스터에 제출된 애플리케이션은 작업이 종료되거나 에러가 발생할 때까지 실행됨\n",
    "  - 스파크 애플리케이션은 스탠드얼론, 메소스, YARN 클러스터 매니저를 이용해 실행됨\n",
    "  - [참고](https://12bme.tistory.com/441)\n",
    "  \n",
    "```zsh\n",
    "# 스칼라 애플리케이션\n",
    "# master 옵션으로 스파크 스탠드얼론, 메소스, yarn 클러스터 매니저 설정\n",
    "./bin/spark-submit \\\n",
    "--class org.apache.spark.examples.SparkPi \\\n",
    "--master local \\\n",
    "./examples/jars/spark-examples_2.12-3.2.1.jar 10\n",
    "```\n",
    "\n",
    "```zsh\n",
    "# 파이썬 애플리케이션\n",
    "# master 옵션으로 스파크 스탠드얼론, 메소스, yarn 클러스터 매니저 설정\n",
    "./bin/spark-submit \\\n",
    "--master local \\\n",
    "./examples/src/main/python/pi.py 10\n",
    "```"
   ]
  },
  {
   "cell_type": "markdown",
   "metadata": {
    "application/vnd.databricks.v1+cell": {
     "inputWidgets": {},
     "nuid": "dba9f8af-0d89-4914-9668-d1df772eb9d7",
     "showTitle": false,
     "title": ""
    }
   },
   "source": [
    "## Dataset: 타입 안정성을 제공하는 구조적 API\n",
    "- DataSet은 <strong>자바와 스칼라의 정적 데이터 타입</strong>을 지원함\n",
    "  - <strong>타입 안정성</strong>을 지원하며 동적 타입 언어인 파이썬과 R에서는 사용X\n",
    "- DataFrame의 레코드를 사용자가 자바나 스칼라로 정의한 클래스에 할당하고 자바의 ArrayList 또는 스칼라의 Seq 객체 등의 고정 타입형 컬렉션으로 다룰 수 있는 기능 제공\n",
    "- 타입 안정성을 지원하므로 초기화에 사용한 클래스 대신 다른 클래스를 사용해 접근할 수 없음\n",
    "  - 대규모 애플리케이션을 개발하는데 유용\n",
    "- 필요한 경우에 선택적으로 사용 가능\n",
    "  - ex) Dataset으로 처리 후 결과를 DataFrame으로 변환하는 등"
   ]
  },
  {
   "cell_type": "markdown",
   "metadata": {
    "application/vnd.databricks.v1+cell": {
     "inputWidgets": {},
     "nuid": "3e3adff8-4b20-4620-914e-f4e019b0c59e",
     "showTitle": false,
     "title": ""
    }
   },
   "source": [
    "## 구조적 스트리밍\n",
    "- [참고](https://spark-korea.github.io/docs/structured-streaming-programming-guide.html#%EA%B0%9C%EC%9A%94)\n",
    "- 스파크 2.2 버전에서 안정화된 스트림 처리용 고수준 API\n",
    "- 구조적 스트리밍은 <strong>배치 처리용 코드를 일부 수정하여 스트리밍 처리</strong>를 수행하고, 값을 빠르게 얻을 수 있게함"
   ]
  },
  {
   "cell_type": "markdown",
   "metadata": {
    "application/vnd.databricks.v1+cell": {
     "inputWidgets": {},
     "nuid": "916746e5-739b-480d-b9da-773d5141ce96",
     "showTitle": false,
     "title": ""
    }
   },
   "source": [
    "## 머신러닝과 고급 분석\n",
    "- 내장된 머신러닝 알고리즘 라이브러리인 MLlib를 이용해 대규모 머신러닝 수행 가능\n",
    "- 대용량 데이터를 대상으로 전처리 / 랭글링 / 학습 / 예측 을 할 수 있음\n",
    "  - 구조적 스트리밍에서 예측하고자 할 때도 MLlib에서 학습시킨 다양한 예측 모델 적용 가능\n",
    "- 스파크는 분류 / 회귀 / 군집화 / 딥러닝과 관련된 정교한 API 제공"
   ]
  },
  {
   "cell_type": "markdown",
   "metadata": {
    "application/vnd.databricks.v1+cell": {
     "inputWidgets": {},
     "nuid": "293736f6-3187-4985-9aea-87ab2005908c",
     "showTitle": false,
     "title": ""
    }
   },
   "source": [
    "### 예제: k-means로 기본적인 군집화 수행"
   ]
  },
  {
   "cell_type": "code",
   "execution_count": null,
   "metadata": {
    "application/vnd.databricks.v1+cell": {
     "inputWidgets": {},
     "nuid": "33b4cf76-3fc2-4a1a-8cf0-7d285c128169",
     "showTitle": false,
     "title": ""
    }
   },
   "outputs": [
    {
     "data": {
      "text/html": [
       "<style scoped>\n",
       "  .ansiout {\n",
       "    display: block;\n",
       "    unicode-bidi: embed;\n",
       "    white-space: pre-wrap;\n",
       "    word-wrap: break-word;\n",
       "    word-break: break-all;\n",
       "    font-family: \"Source Code Pro\", \"Menlo\", monospace;;\n",
       "    font-size: 13px;\n",
       "    color: #555;\n",
       "    margin-left: 4px;\n",
       "    line-height: 19px;\n",
       "  }\n",
       "</style>\n",
       "<div class=\"ansiout\"></div>"
      ]
     },
     "metadata": {
      "application/vnd.databricks.v1+output": {
       "addedWidgets": {},
       "arguments": {},
       "data": "<div class=\"ansiout\"></div>",
       "datasetInfos": [
        {
         "name": "pre_df",
         "schema": {
          "fields": [
           {
            "metadata": {},
            "name": "InvoiceNo",
            "nullable": true,
            "type": "string"
           },
           {
            "metadata": {},
            "name": "StockCode",
            "nullable": true,
            "type": "string"
           },
           {
            "metadata": {},
            "name": "Description",
            "nullable": true,
            "type": "string"
           },
           {
            "metadata": {},
            "name": "Quantity",
            "nullable": true,
            "type": "integer"
           },
           {
            "metadata": {},
            "name": "InvoiceDate",
            "nullable": true,
            "type": "timestamp"
           },
           {
            "metadata": {},
            "name": "UnitPrice",
            "nullable": false,
            "type": "double"
           },
           {
            "metadata": {},
            "name": "CustomerID",
            "nullable": false,
            "type": "double"
           },
           {
            "metadata": {},
            "name": "Country",
            "nullable": true,
            "type": "string"
           },
           {
            "metadata": {},
            "name": "day_of_week",
            "nullable": true,
            "type": "string"
           }
          ],
          "type": "struct"
         },
         "tableIdentifier": null,
         "typeStr": "pyspark.sql.dataframe.DataFrame"
        }
       ],
       "metadata": {},
       "removedWidgets": [],
       "type": "html"
      }
     },
     "output_type": "display_data"
    }
   ],
   "source": [
    "pre_df = static_df.na.fill(0).withColumn('day_of_week', F.date_format(F.col('InvoiceDate'), 'EEEE')).coalesce(5)"
   ]
  },
  {
   "cell_type": "markdown",
   "metadata": {
    "application/vnd.databricks.v1+cell": {
     "inputWidgets": {},
     "nuid": "5f05ae8f-01d0-4b78-8a20-837658575950",
     "showTitle": false,
     "title": ""
    }
   },
   "source": [
    "-----\n",
    "- <strong>파티션 수 조절</strong>을 위한 메서드\n",
    "  - coalesce\n",
    "  - repartition\n",
    "  - coalesce는 파티션 수를 줄이기만 가능, repartition은 늘리고 줄이기 모두 가능\n",
    "    - 디폴트의 차이인 것 같고, 파라미터 값으로 조절 가능\n",
    "  - [참고](https://brocess.tistory.com/183)"
   ]
  },
  {
   "cell_type": "code",
   "execution_count": null,
   "metadata": {
    "application/vnd.databricks.v1+cell": {
     "inputWidgets": {},
     "nuid": "619658ea-b9a3-4fc7-83f2-a1191b73e016",
     "showTitle": false,
     "title": ""
    }
   },
   "outputs": [
    {
     "data": {
      "text/html": [
       "<style scoped>\n",
       "  .table-result-container {\n",
       "    max-height: 300px;\n",
       "    overflow: auto;\n",
       "  }\n",
       "  table, th, td {\n",
       "    border: 1px solid black;\n",
       "    border-collapse: collapse;\n",
       "  }\n",
       "  th, td {\n",
       "    padding: 5px;\n",
       "  }\n",
       "  th {\n",
       "    text-align: left;\n",
       "  }\n",
       "</style><div class='table-result-container'><table class='table-result'><thead style='background-color: white'><tr><th>InvoiceNo</th><th>StockCode</th><th>Description</th><th>Quantity</th><th>InvoiceDate</th><th>UnitPrice</th><th>CustomerID</th><th>Country</th><th>day_of_week</th></tr></thead><tbody><tr><td>537226</td><td>22811</td><td>SET OF 6 T-LIGHTS CACTI </td><td>6</td><td>2010-12-06T08:34:00.000+0000</td><td>2.95</td><td>15987.0</td><td>United Kingdom</td><td>Monday</td></tr><tr><td>537226</td><td>21713</td><td>CITRONELLA CANDLE FLOWERPOT</td><td>8</td><td>2010-12-06T08:34:00.000+0000</td><td>2.1</td><td>15987.0</td><td>United Kingdom</td><td>Monday</td></tr><tr><td>537226</td><td>22927</td><td>GREEN GIANT GARDEN THERMOMETER</td><td>2</td><td>2010-12-06T08:34:00.000+0000</td><td>5.95</td><td>15987.0</td><td>United Kingdom</td><td>Monday</td></tr><tr><td>537226</td><td>20802</td><td>SMALL GLASS SUNDAE DISH CLEAR</td><td>6</td><td>2010-12-06T08:34:00.000+0000</td><td>1.65</td><td>15987.0</td><td>United Kingdom</td><td>Monday</td></tr><tr><td>537226</td><td>22052</td><td>VINTAGE CARAVAN GIFT WRAP</td><td>25</td><td>2010-12-06T08:34:00.000+0000</td><td>0.42</td><td>15987.0</td><td>United Kingdom</td><td>Monday</td></tr><tr><td>537226</td><td>22705</td><td>WRAP GREEN PEARS </td><td>25</td><td>2010-12-06T08:34:00.000+0000</td><td>0.42</td><td>15987.0</td><td>United Kingdom</td><td>Monday</td></tr><tr><td>537226</td><td>20781</td><td>GOLD EAR MUFF HEADPHONES</td><td>2</td><td>2010-12-06T08:34:00.000+0000</td><td>5.49</td><td>15987.0</td><td>United Kingdom</td><td>Monday</td></tr><tr><td>537226</td><td>22310</td><td>IVORY KNITTED MUG COSY </td><td>6</td><td>2010-12-06T08:34:00.000+0000</td><td>1.65</td><td>15987.0</td><td>United Kingdom</td><td>Monday</td></tr><tr><td>537226</td><td>22389</td><td>PAPERWEIGHT SAVE THE PLANET</td><td>6</td><td>2010-12-06T08:34:00.000+0000</td><td>2.55</td><td>15987.0</td><td>United Kingdom</td><td>Monday</td></tr><tr><td>537227</td><td>22941</td><td>CHRISTMAS LIGHTS 10 REINDEER</td><td>2</td><td>2010-12-06T08:42:00.000+0000</td><td>8.5</td><td>17677.0</td><td>United Kingdom</td><td>Monday</td></tr></tbody></table></div>"
      ]
     },
     "metadata": {
      "application/vnd.databricks.v1+output": {
       "addedWidgets": {},
       "aggData": [],
       "aggError": "",
       "aggOverflow": false,
       "aggSchema": [],
       "aggSeriesLimitReached": false,
       "aggType": "",
       "arguments": {},
       "columnCustomDisplayInfos": {},
       "data": [
        [
         "537226",
         "22811",
         "SET OF 6 T-LIGHTS CACTI ",
         6,
         "2010-12-06T08:34:00.000+0000",
         2.95,
         15987,
         "United Kingdom",
         "Monday"
        ],
        [
         "537226",
         "21713",
         "CITRONELLA CANDLE FLOWERPOT",
         8,
         "2010-12-06T08:34:00.000+0000",
         2.1,
         15987,
         "United Kingdom",
         "Monday"
        ],
        [
         "537226",
         "22927",
         "GREEN GIANT GARDEN THERMOMETER",
         2,
         "2010-12-06T08:34:00.000+0000",
         5.95,
         15987,
         "United Kingdom",
         "Monday"
        ],
        [
         "537226",
         "20802",
         "SMALL GLASS SUNDAE DISH CLEAR",
         6,
         "2010-12-06T08:34:00.000+0000",
         1.65,
         15987,
         "United Kingdom",
         "Monday"
        ],
        [
         "537226",
         "22052",
         "VINTAGE CARAVAN GIFT WRAP",
         25,
         "2010-12-06T08:34:00.000+0000",
         0.42,
         15987,
         "United Kingdom",
         "Monday"
        ],
        [
         "537226",
         "22705",
         "WRAP GREEN PEARS ",
         25,
         "2010-12-06T08:34:00.000+0000",
         0.42,
         15987,
         "United Kingdom",
         "Monday"
        ],
        [
         "537226",
         "20781",
         "GOLD EAR MUFF HEADPHONES",
         2,
         "2010-12-06T08:34:00.000+0000",
         5.49,
         15987,
         "United Kingdom",
         "Monday"
        ],
        [
         "537226",
         "22310",
         "IVORY KNITTED MUG COSY ",
         6,
         "2010-12-06T08:34:00.000+0000",
         1.65,
         15987,
         "United Kingdom",
         "Monday"
        ],
        [
         "537226",
         "22389",
         "PAPERWEIGHT SAVE THE PLANET",
         6,
         "2010-12-06T08:34:00.000+0000",
         2.55,
         15987,
         "United Kingdom",
         "Monday"
        ],
        [
         "537227",
         "22941",
         "CHRISTMAS LIGHTS 10 REINDEER",
         2,
         "2010-12-06T08:42:00.000+0000",
         8.5,
         17677,
         "United Kingdom",
         "Monday"
        ]
       ],
       "datasetInfos": [],
       "dbfsResultPath": null,
       "isJsonSchema": true,
       "metadata": {},
       "overflow": false,
       "plotOptions": {
        "customPlotOptions": {},
        "displayType": "table",
        "pivotAggregation": null,
        "pivotColumns": null,
        "xColumns": null,
        "yColumns": null
       },
       "removedWidgets": [],
       "schema": [
        {
         "metadata": "{}",
         "name": "InvoiceNo",
         "type": "\"string\""
        },
        {
         "metadata": "{}",
         "name": "StockCode",
         "type": "\"string\""
        },
        {
         "metadata": "{}",
         "name": "Description",
         "type": "\"string\""
        },
        {
         "metadata": "{}",
         "name": "Quantity",
         "type": "\"integer\""
        },
        {
         "metadata": "{}",
         "name": "InvoiceDate",
         "type": "\"timestamp\""
        },
        {
         "metadata": "{}",
         "name": "UnitPrice",
         "type": "\"double\""
        },
        {
         "metadata": "{}",
         "name": "CustomerID",
         "type": "\"double\""
        },
        {
         "metadata": "{}",
         "name": "Country",
         "type": "\"string\""
        },
        {
         "metadata": "{}",
         "name": "day_of_week",
         "type": "\"string\""
        }
       ],
       "type": "table"
      }
     },
     "output_type": "display_data"
    }
   ],
   "source": [
    "display(pre_df.limit(10))"
   ]
  },
  {
   "cell_type": "code",
   "execution_count": null,
   "metadata": {
    "application/vnd.databricks.v1+cell": {
     "inputWidgets": {},
     "nuid": "eb88bf64-f2af-458e-8e9c-49e0ebe9bffb",
     "showTitle": false,
     "title": ""
    }
   },
   "outputs": [
    {
     "data": {
      "text/html": [
       "<style scoped>\n",
       "  .table-result-container {\n",
       "    max-height: 300px;\n",
       "    overflow: auto;\n",
       "  }\n",
       "  table, th, td {\n",
       "    border: 1px solid black;\n",
       "    border-collapse: collapse;\n",
       "  }\n",
       "  th, td {\n",
       "    padding: 5px;\n",
       "  }\n",
       "  th {\n",
       "    text-align: left;\n",
       "  }\n",
       "</style><div class='table-result-container'><table class='table-result'><thead style='background-color: white'><tr><th>summary</th><th>InvoiceNo</th></tr></thead><tbody><tr><td>count</td><td>148117</td></tr><tr><td>mean</td><td>542603.1728328828</td></tr><tr><td>stddev</td><td>3669.8110037898678</td></tr><tr><td>min</td><td>536365</td></tr><tr><td>max</td><td>C549162</td></tr></tbody></table></div>"
      ]
     },
     "metadata": {
      "application/vnd.databricks.v1+output": {
       "addedWidgets": {},
       "aggData": [],
       "aggError": "",
       "aggOverflow": false,
       "aggSchema": [],
       "aggSeriesLimitReached": false,
       "aggType": "",
       "arguments": {},
       "columnCustomDisplayInfos": {},
       "data": [
        [
         "count",
         "148117"
        ],
        [
         "mean",
         "542603.1728328828"
        ],
        [
         "stddev",
         "3669.8110037898678"
        ],
        [
         "min",
         "536365"
        ],
        [
         "max",
         "C549162"
        ]
       ],
       "datasetInfos": [],
       "dbfsResultPath": null,
       "isJsonSchema": true,
       "metadata": {},
       "overflow": false,
       "plotOptions": {
        "customPlotOptions": {},
        "displayType": "table",
        "pivotAggregation": null,
        "pivotColumns": null,
        "xColumns": null,
        "yColumns": null
       },
       "removedWidgets": [],
       "schema": [
        {
         "metadata": "{}",
         "name": "summary",
         "type": "\"string\""
        },
        {
         "metadata": "{}",
         "name": "InvoiceNo",
         "type": "\"string\""
        }
       ],
       "type": "table"
      }
     },
     "output_type": "display_data"
    }
   ],
   "source": [
    "display(pre_df.select('InvoiceNo').describe())"
   ]
  },
  {
   "cell_type": "markdown",
   "metadata": {
    "application/vnd.databricks.v1+cell": {
     "inputWidgets": {},
     "nuid": "533972e5-316f-42af-a10f-2f6a8e54a8d2",
     "showTitle": false,
     "title": ""
    }
   },
   "source": [
    "#### train/test 셋 분리"
   ]
  },
  {
   "cell_type": "code",
   "execution_count": null,
   "metadata": {
    "application/vnd.databricks.v1+cell": {
     "inputWidgets": {},
     "nuid": "47d8b6a2-2911-428b-8166-6f3dd6fd572e",
     "showTitle": false,
     "title": ""
    }
   },
   "outputs": [
    {
     "data": {
      "text/html": [
       "<style scoped>\n",
       "  .ansiout {\n",
       "    display: block;\n",
       "    unicode-bidi: embed;\n",
       "    white-space: pre-wrap;\n",
       "    word-wrap: break-word;\n",
       "    word-break: break-all;\n",
       "    font-family: \"Source Code Pro\", \"Menlo\", monospace;;\n",
       "    font-size: 13px;\n",
       "    color: #555;\n",
       "    margin-left: 4px;\n",
       "    line-height: 19px;\n",
       "  }\n",
       "</style>\n",
       "<div class=\"ansiout\"></div>"
      ]
     },
     "metadata": {
      "application/vnd.databricks.v1+output": {
       "addedWidgets": {},
       "arguments": {},
       "data": "<div class=\"ansiout\"></div>",
       "datasetInfos": [
        {
         "name": "train_df",
         "schema": {
          "fields": [
           {
            "metadata": {},
            "name": "InvoiceNo",
            "nullable": true,
            "type": "string"
           },
           {
            "metadata": {},
            "name": "StockCode",
            "nullable": true,
            "type": "string"
           },
           {
            "metadata": {},
            "name": "Description",
            "nullable": true,
            "type": "string"
           },
           {
            "metadata": {},
            "name": "Quantity",
            "nullable": true,
            "type": "integer"
           },
           {
            "metadata": {},
            "name": "InvoiceDate",
            "nullable": true,
            "type": "timestamp"
           },
           {
            "metadata": {},
            "name": "UnitPrice",
            "nullable": false,
            "type": "double"
           },
           {
            "metadata": {},
            "name": "CustomerID",
            "nullable": false,
            "type": "double"
           },
           {
            "metadata": {},
            "name": "Country",
            "nullable": true,
            "type": "string"
           },
           {
            "metadata": {},
            "name": "day_of_week",
            "nullable": true,
            "type": "string"
           }
          ],
          "type": "struct"
         },
         "tableIdentifier": null,
         "typeStr": "pyspark.sql.dataframe.DataFrame"
        },
        {
         "name": "test_df",
         "schema": {
          "fields": [
           {
            "metadata": {},
            "name": "InvoiceNo",
            "nullable": true,
            "type": "string"
           },
           {
            "metadata": {},
            "name": "StockCode",
            "nullable": true,
            "type": "string"
           },
           {
            "metadata": {},
            "name": "Description",
            "nullable": true,
            "type": "string"
           },
           {
            "metadata": {},
            "name": "Quantity",
            "nullable": true,
            "type": "integer"
           },
           {
            "metadata": {},
            "name": "InvoiceDate",
            "nullable": true,
            "type": "timestamp"
           },
           {
            "metadata": {},
            "name": "UnitPrice",
            "nullable": false,
            "type": "double"
           },
           {
            "metadata": {},
            "name": "CustomerID",
            "nullable": false,
            "type": "double"
           },
           {
            "metadata": {},
            "name": "Country",
            "nullable": true,
            "type": "string"
           },
           {
            "metadata": {},
            "name": "day_of_week",
            "nullable": true,
            "type": "string"
           }
          ],
          "type": "struct"
         },
         "tableIdentifier": null,
         "typeStr": "pyspark.sql.dataframe.DataFrame"
        }
       ],
       "metadata": {},
       "removedWidgets": [],
       "type": "html"
      }
     },
     "output_type": "display_data"
    }
   ],
   "source": [
    "train_df = pre_df.where('InvoiceNo < 542603')\n",
    "test_df = pre_df.where('InvoiceNo >= 542603')"
   ]
  },
  {
   "cell_type": "code",
   "execution_count": null,
   "metadata": {
    "application/vnd.databricks.v1+cell": {
     "inputWidgets": {},
     "nuid": "a65e930f-1a7a-4724-a10a-b6c48c74bc02",
     "showTitle": false,
     "title": ""
    }
   },
   "outputs": [
    {
     "data": {
      "text/html": [
       "<style scoped>\n",
       "  .ansiout {\n",
       "    display: block;\n",
       "    unicode-bidi: embed;\n",
       "    white-space: pre-wrap;\n",
       "    word-wrap: break-word;\n",
       "    word-break: break-all;\n",
       "    font-family: \"Source Code Pro\", \"Menlo\", monospace;;\n",
       "    font-size: 13px;\n",
       "    color: #555;\n",
       "    margin-left: 4px;\n",
       "    line-height: 19px;\n",
       "  }\n",
       "</style>\n",
       "<div class=\"ansiout\"><span class=\"ansired\">Out[</span><span class=\"ansired\">61</span><span class=\"ansired\">]: </span>74198</div>"
      ]
     },
     "metadata": {
      "application/vnd.databricks.v1+output": {
       "addedWidgets": {},
       "arguments": {},
       "data": "<div class=\"ansiout\"><span class=\"ansired\">Out[</span><span class=\"ansired\">61</span><span class=\"ansired\">]: </span>74198</div>",
       "datasetInfos": [],
       "metadata": {},
       "removedWidgets": [],
       "type": "html"
      }
     },
     "output_type": "display_data"
    }
   ],
   "source": [
    "train_df.count()"
   ]
  },
  {
   "cell_type": "code",
   "execution_count": null,
   "metadata": {
    "application/vnd.databricks.v1+cell": {
     "inputWidgets": {},
     "nuid": "e5c60c74-3c05-42c2-973a-218dfc3c1d78",
     "showTitle": false,
     "title": ""
    }
   },
   "outputs": [
    {
     "data": {
      "text/html": [
       "<style scoped>\n",
       "  .ansiout {\n",
       "    display: block;\n",
       "    unicode-bidi: embed;\n",
       "    white-space: pre-wrap;\n",
       "    word-wrap: break-word;\n",
       "    word-break: break-all;\n",
       "    font-family: \"Source Code Pro\", \"Menlo\", monospace;;\n",
       "    font-size: 13px;\n",
       "    color: #555;\n",
       "    margin-left: 4px;\n",
       "    line-height: 19px;\n",
       "  }\n",
       "</style>\n",
       "<div class=\"ansiout\"><span class=\"ansired\">Out[</span><span class=\"ansired\">62</span><span class=\"ansired\">]: </span>71191</div>"
      ]
     },
     "metadata": {
      "application/vnd.databricks.v1+output": {
       "addedWidgets": {},
       "arguments": {},
       "data": "<div class=\"ansiout\"><span class=\"ansired\">Out[</span><span class=\"ansired\">62</span><span class=\"ansired\">]: </span>71191</div>",
       "datasetInfos": [],
       "metadata": {},
       "removedWidgets": [],
       "type": "html"
      }
     },
     "output_type": "display_data"
    }
   ],
   "source": [
    "test_df.count()"
   ]
  },
  {
   "cell_type": "markdown",
   "metadata": {
    "application/vnd.databricks.v1+cell": {
     "inputWidgets": {},
     "nuid": "2219bcbc-8b5f-4949-a8af-431214404eb0",
     "showTitle": false,
     "title": ""
    }
   },
   "source": [
    "---\n",
    "- TrainValidationSplit이나 CrossValidator API로도 분리 가능(이건 나중에 다룸)"
   ]
  },
  {
   "cell_type": "markdown",
   "metadata": {
    "application/vnd.databricks.v1+cell": {
     "inputWidgets": {},
     "nuid": "714ed9c3-98df-471a-be6a-ba7727227f55",
     "showTitle": false,
     "title": ""
    }
   },
   "source": [
    "#### 전처리"
   ]
  },
  {
   "cell_type": "code",
   "execution_count": null,
   "metadata": {
    "application/vnd.databricks.v1+cell": {
     "inputWidgets": {},
     "nuid": "b9e5abba-5643-44c6-b4a5-0c25c7d4c914",
     "showTitle": false,
     "title": ""
    }
   },
   "outputs": [
    {
     "data": {
      "text/html": [
       "<style scoped>\n",
       "  .ansiout {\n",
       "    display: block;\n",
       "    unicode-bidi: embed;\n",
       "    white-space: pre-wrap;\n",
       "    word-wrap: break-word;\n",
       "    word-break: break-all;\n",
       "    font-family: \"Source Code Pro\", \"Menlo\", monospace;;\n",
       "    font-size: 13px;\n",
       "    color: #555;\n",
       "    margin-left: 4px;\n",
       "    line-height: 19px;\n",
       "  }\n",
       "</style>\n",
       "<div class=\"ansiout\"></div>"
      ]
     },
     "metadata": {
      "application/vnd.databricks.v1+output": {
       "addedWidgets": {},
       "arguments": {},
       "data": "<div class=\"ansiout\"></div>",
       "datasetInfos": [],
       "metadata": {},
       "removedWidgets": [],
       "type": "html"
      }
     },
     "output_type": "display_data"
    }
   ],
   "source": [
    "#StringIndexer로 각 요일을 수치형으로 변환\n",
    "from pyspark.ml.feature import StringIndexer\n",
    "indexer = StringIndexer().setInputCol('day_of_week').setOutputCol('day_of_week_index')"
   ]
  },
  {
   "cell_type": "code",
   "execution_count": null,
   "metadata": {
    "application/vnd.databricks.v1+cell": {
     "inputWidgets": {},
     "nuid": "27d404b3-8afe-4d9f-b356-9f1c722f84f6",
     "showTitle": false,
     "title": ""
    }
   },
   "outputs": [
    {
     "data": {
      "text/html": [
       "<style scoped>\n",
       "  .ansiout {\n",
       "    display: block;\n",
       "    unicode-bidi: embed;\n",
       "    white-space: pre-wrap;\n",
       "    word-wrap: break-word;\n",
       "    word-break: break-all;\n",
       "    font-family: \"Source Code Pro\", \"Menlo\", monospace;;\n",
       "    font-size: 13px;\n",
       "    color: #555;\n",
       "    margin-left: 4px;\n",
       "    line-height: 19px;\n",
       "  }\n",
       "</style>\n",
       "<div class=\"ansiout\"></div>"
      ]
     },
     "metadata": {
      "application/vnd.databricks.v1+output": {
       "addedWidgets": {},
       "arguments": {},
       "data": "<div class=\"ansiout\"></div>",
       "datasetInfos": [],
       "metadata": {},
       "removedWidgets": [],
       "type": "html"
      }
     },
     "output_type": "display_data"
    }
   ],
   "source": [
    "#OneHotEncoder로 index -> binary vector로 변환\n",
    "from pyspark.ml.feature import OneHotEncoder\n",
    "encoder = OneHotEncoder().setInputCol('day_of_week_index').setOutputCol('day_of_week_encoded')"
   ]
  },
  {
   "cell_type": "code",
   "execution_count": null,
   "metadata": {
    "application/vnd.databricks.v1+cell": {
     "inputWidgets": {},
     "nuid": "c473a6d0-6946-4065-af09-25d9d62d5ba3",
     "showTitle": false,
     "title": ""
    }
   },
   "outputs": [
    {
     "data": {
      "text/html": [
       "<style scoped>\n",
       "  .ansiout {\n",
       "    display: block;\n",
       "    unicode-bidi: embed;\n",
       "    white-space: pre-wrap;\n",
       "    word-wrap: break-word;\n",
       "    word-break: break-all;\n",
       "    font-family: \"Source Code Pro\", \"Menlo\", monospace;;\n",
       "    font-size: 13px;\n",
       "    color: #555;\n",
       "    margin-left: 4px;\n",
       "    line-height: 19px;\n",
       "  }\n",
       "</style>\n",
       "<div class=\"ansiout\"></div>"
      ]
     },
     "metadata": {
      "application/vnd.databricks.v1+output": {
       "addedWidgets": {},
       "arguments": {},
       "data": "<div class=\"ansiout\"></div>",
       "datasetInfos": [],
       "metadata": {},
       "removedWidgets": [],
       "type": "html"
      }
     },
     "output_type": "display_data"
    }
   ],
   "source": [
    "from pyspark.ml import Pipeline\n",
    "trans_pipeline = Pipeline().setStages([indexer, encoder, vector_asb])"
   ]
  },
  {
   "cell_type": "markdown",
   "metadata": {
    "application/vnd.databricks.v1+cell": {
     "inputWidgets": {},
     "nuid": "f106ffbd-8ce3-468e-b55c-2fd962aac864",
     "showTitle": false,
     "title": ""
    }
   },
   "source": [
    "------\n",
    "- 스파크의 모든 머신러닝 알고리즘은 수치형 벡터 타입을 입력으로 사용"
   ]
  },
  {
   "cell_type": "code",
   "execution_count": null,
   "metadata": {
    "application/vnd.databricks.v1+cell": {
     "inputWidgets": {},
     "nuid": "886724ca-f0a5-4603-a2d0-1122d73f783f",
     "showTitle": false,
     "title": ""
    }
   },
   "outputs": [
    {
     "data": {
      "text/html": [
       "<style scoped>\n",
       "  .ansiout {\n",
       "    display: block;\n",
       "    unicode-bidi: embed;\n",
       "    white-space: pre-wrap;\n",
       "    word-wrap: break-word;\n",
       "    word-break: break-all;\n",
       "    font-family: \"Source Code Pro\", \"Menlo\", monospace;;\n",
       "    font-size: 13px;\n",
       "    color: #555;\n",
       "    margin-left: 4px;\n",
       "    line-height: 19px;\n",
       "  }\n",
       "</style>\n",
       "<div class=\"ansiout\"></div>"
      ]
     },
     "metadata": {
      "application/vnd.databricks.v1+output": {
       "addedWidgets": {},
       "arguments": {},
       "data": "<div class=\"ansiout\"></div>",
       "datasetInfos": [],
       "metadata": {},
       "removedWidgets": [],
       "type": "html"
      }
     },
     "output_type": "display_data"
    }
   ],
   "source": [
    "from pyspark.ml.feature import VectorAssembler\n",
    "vector_asb = VectorAssembler().setInputCols(['UnitPrice', 'Quantity', 'day_of_week_encoded']).setOutputCol('features')"
   ]
  },
  {
   "cell_type": "markdown",
   "metadata": {
    "application/vnd.databricks.v1+cell": {
     "inputWidgets": {},
     "nuid": "bc1455bd-0460-465f-92b0-5ada1db6f0c1",
     "showTitle": false,
     "title": ""
    }
   },
   "source": [
    "#### 파이프라인 생성"
   ]
  },
  {
   "cell_type": "code",
   "execution_count": null,
   "metadata": {
    "application/vnd.databricks.v1+cell": {
     "inputWidgets": {},
     "nuid": "19f2eae3-5fa7-4a89-b4ae-1d4f70eacead",
     "showTitle": false,
     "title": ""
    }
   },
   "outputs": [
    {
     "data": {
      "text/html": [
       "<style scoped>\n",
       "  .ansiout {\n",
       "    display: block;\n",
       "    unicode-bidi: embed;\n",
       "    white-space: pre-wrap;\n",
       "    word-wrap: break-word;\n",
       "    word-break: break-all;\n",
       "    font-family: \"Source Code Pro\", \"Menlo\", monospace;;\n",
       "    font-size: 13px;\n",
       "    color: #555;\n",
       "    margin-left: 4px;\n",
       "    line-height: 19px;\n",
       "  }\n",
       "</style>\n",
       "<div class=\"ansiout\"></div>"
      ]
     },
     "metadata": {
      "application/vnd.databricks.v1+output": {
       "addedWidgets": {},
       "arguments": {},
       "data": "<div class=\"ansiout\"></div>",
       "datasetInfos": [],
       "metadata": {},
       "removedWidgets": [],
       "type": "html"
      }
     },
     "output_type": "display_data"
    }
   ],
   "source": [
    "fit_pipeline = trans_pipeline.fit(train_df)"
   ]
  },
  {
   "cell_type": "code",
   "execution_count": null,
   "metadata": {
    "application/vnd.databricks.v1+cell": {
     "inputWidgets": {},
     "nuid": "d71d8666-94a4-4f7a-a590-09e1d11e96e8",
     "showTitle": false,
     "title": ""
    }
   },
   "outputs": [
    {
     "data": {
      "text/html": [
       "<style scoped>\n",
       "  .ansiout {\n",
       "    display: block;\n",
       "    unicode-bidi: embed;\n",
       "    white-space: pre-wrap;\n",
       "    word-wrap: break-word;\n",
       "    word-break: break-all;\n",
       "    font-family: \"Source Code Pro\", \"Menlo\", monospace;;\n",
       "    font-size: 13px;\n",
       "    color: #555;\n",
       "    margin-left: 4px;\n",
       "    line-height: 19px;\n",
       "  }\n",
       "</style>\n",
       "<div class=\"ansiout\"></div>"
      ]
     },
     "metadata": {
      "application/vnd.databricks.v1+output": {
       "addedWidgets": {},
       "arguments": {},
       "data": "<div class=\"ansiout\"></div>",
       "datasetInfos": [
        {
         "name": "trans_train",
         "schema": {
          "fields": [
           {
            "metadata": {},
            "name": "InvoiceNo",
            "nullable": true,
            "type": "string"
           },
           {
            "metadata": {},
            "name": "StockCode",
            "nullable": true,
            "type": "string"
           },
           {
            "metadata": {},
            "name": "Description",
            "nullable": true,
            "type": "string"
           },
           {
            "metadata": {},
            "name": "Quantity",
            "nullable": true,
            "type": "integer"
           },
           {
            "metadata": {},
            "name": "InvoiceDate",
            "nullable": true,
            "type": "timestamp"
           },
           {
            "metadata": {},
            "name": "UnitPrice",
            "nullable": false,
            "type": "double"
           },
           {
            "metadata": {},
            "name": "CustomerID",
            "nullable": false,
            "type": "double"
           },
           {
            "metadata": {},
            "name": "Country",
            "nullable": true,
            "type": "string"
           },
           {
            "metadata": {},
            "name": "day_of_week",
            "nullable": true,
            "type": "string"
           },
           {
            "metadata": {
             "ml_attr": {
              "name": "day_of_week_index",
              "type": "nominal",
              "vals": [
               "2010-12-06",
               "2010-12-17",
               "2010-12-01",
               "2010-12-07",
               "2010-12-09",
               "2010-12-05",
               "2010-12-10",
               "2010-12-08",
               "2011-01-17",
               "2010-12-13",
               "2010-12-03",
               "2010-12-02",
               "2010-12-14",
               "2011-01-10",
               "2011-01-12",
               "2011-01-06",
               "2011-01-07",
               "2010-12-16",
               "2010-12-20",
               "2011-01-05",
               "2011-01-25",
               "2010-12-21",
               "2011-01-21",
               "2011-01-27",
               "2011-01-14",
               "2011-01-20",
               "2011-01-24",
               "2010-12-12",
               "2011-01-13",
               "2011-01-18",
               "2011-01-19",
               "2011-01-11",
               "2010-12-15",
               "2011-01-26",
               "2011-01-04",
               "2011-01-09",
               "2011-01-28",
               "2010-12-23",
               "2011-01-23",
               "2011-01-16",
               "2010-12-19",
               "2010-12-22",
               "2011-01-30"
              ]
             }
            },
            "name": "day_of_week_index",
            "nullable": false,
            "type": "double"
           },
           {
            "metadata": {
             "ml_attr": {
              "attrs": {
               "binary": [
                {
                 "idx": 0,
                 "name": "2010-12-06"
                },
                {
                 "idx": 1,
                 "name": "2010-12-17"
                },
                {
                 "idx": 2,
                 "name": "2010-12-01"
                },
                {
                 "idx": 3,
                 "name": "2010-12-07"
                },
                {
                 "idx": 4,
                 "name": "2010-12-09"
                },
                {
                 "idx": 5,
                 "name": "2010-12-05"
                },
                {
                 "idx": 6,
                 "name": "2010-12-10"
                },
                {
                 "idx": 7,
                 "name": "2010-12-08"
                },
                {
                 "idx": 8,
                 "name": "2011-01-17"
                },
                {
                 "idx": 9,
                 "name": "2010-12-13"
                },
                {
                 "idx": 10,
                 "name": "2010-12-03"
                },
                {
                 "idx": 11,
                 "name": "2010-12-02"
                },
                {
                 "idx": 12,
                 "name": "2010-12-14"
                },
                {
                 "idx": 13,
                 "name": "2011-01-10"
                },
                {
                 "idx": 14,
                 "name": "2011-01-12"
                },
                {
                 "idx": 15,
                 "name": "2011-01-06"
                },
                {
                 "idx": 16,
                 "name": "2011-01-07"
                },
                {
                 "idx": 17,
                 "name": "2010-12-16"
                },
                {
                 "idx": 18,
                 "name": "2010-12-20"
                },
                {
                 "idx": 19,
                 "name": "2011-01-05"
                },
                {
                 "idx": 20,
                 "name": "2011-01-25"
                },
                {
                 "idx": 21,
                 "name": "2010-12-21"
                },
                {
                 "idx": 22,
                 "name": "2011-01-21"
                },
                {
                 "idx": 23,
                 "name": "2011-01-27"
                },
                {
                 "idx": 24,
                 "name": "2011-01-14"
                },
                {
                 "idx": 25,
                 "name": "2011-01-20"
                },
                {
                 "idx": 26,
                 "name": "2011-01-24"
                },
                {
                 "idx": 27,
                 "name": "2010-12-12"
                },
                {
                 "idx": 28,
                 "name": "2011-01-13"
                },
                {
                 "idx": 29,
                 "name": "2011-01-18"
                },
                {
                 "idx": 30,
                 "name": "2011-01-19"
                },
                {
                 "idx": 31,
                 "name": "2011-01-11"
                },
                {
                 "idx": 32,
                 "name": "2010-12-15"
                },
                {
                 "idx": 33,
                 "name": "2011-01-26"
                },
                {
                 "idx": 34,
                 "name": "2011-01-04"
                },
                {
                 "idx": 35,
                 "name": "2011-01-09"
                },
                {
                 "idx": 36,
                 "name": "2011-01-28"
                },
                {
                 "idx": 37,
                 "name": "2010-12-23"
                },
                {
                 "idx": 38,
                 "name": "2011-01-23"
                },
                {
                 "idx": 39,
                 "name": "2011-01-16"
                },
                {
                 "idx": 40,
                 "name": "2010-12-19"
                },
                {
                 "idx": 41,
                 "name": "2010-12-22"
                }
               ]
              },
              "num_attrs": 42
             }
            },
            "name": "day_of_week_encoded",
            "nullable": true,
            "type": {
             "class": "org.apache.spark.ml.linalg.VectorUDT",
             "pyClass": "pyspark.ml.linalg.VectorUDT",
             "sqlType": {
              "fields": [
               {
                "metadata": {},
                "name": "type",
                "nullable": false,
                "type": "byte"
               },
               {
                "metadata": {},
                "name": "size",
                "nullable": true,
                "type": "integer"
               },
               {
                "metadata": {},
                "name": "indices",
                "nullable": true,
                "type": {
                 "containsNull": false,
                 "elementType": "integer",
                 "type": "array"
                }
               },
               {
                "metadata": {},
                "name": "values",
                "nullable": true,
                "type": {
                 "containsNull": false,
                 "elementType": "double",
                 "type": "array"
                }
               }
              ],
              "type": "struct"
             },
             "type": "udt"
            }
           },
           {
            "metadata": {
             "ml_attr": {
              "attrs": {
               "binary": [
                {
                 "idx": 2,
                 "name": "day_of_week_encoded_2010-12-06"
                },
                {
                 "idx": 3,
                 "name": "day_of_week_encoded_2010-12-17"
                },
                {
                 "idx": 4,
                 "name": "day_of_week_encoded_2010-12-01"
                },
                {
                 "idx": 5,
                 "name": "day_of_week_encoded_2010-12-07"
                },
                {
                 "idx": 6,
                 "name": "day_of_week_encoded_2010-12-09"
                },
                {
                 "idx": 7,
                 "name": "day_of_week_encoded_2010-12-05"
                },
                {
                 "idx": 8,
                 "name": "day_of_week_encoded_2010-12-10"
                },
                {
                 "idx": 9,
                 "name": "day_of_week_encoded_2010-12-08"
                },
                {
                 "idx": 10,
                 "name": "day_of_week_encoded_2011-01-17"
                },
                {
                 "idx": 11,
                 "name": "day_of_week_encoded_2010-12-13"
                },
                {
                 "idx": 12,
                 "name": "day_of_week_encoded_2010-12-03"
                },
                {
                 "idx": 13,
                 "name": "day_of_week_encoded_2010-12-02"
                },
                {
                 "idx": 14,
                 "name": "day_of_week_encoded_2010-12-14"
                },
                {
                 "idx": 15,
                 "name": "day_of_week_encoded_2011-01-10"
                },
                {
                 "idx": 16,
                 "name": "day_of_week_encoded_2011-01-12"
                },
                {
                 "idx": 17,
                 "name": "day_of_week_encoded_2011-01-06"
                },
                {
                 "idx": 18,
                 "name": "day_of_week_encoded_2011-01-07"
                },
                {
                 "idx": 19,
                 "name": "day_of_week_encoded_2010-12-16"
                },
                {
                 "idx": 20,
                 "name": "day_of_week_encoded_2010-12-20"
                },
                {
                 "idx": 21,
                 "name": "day_of_week_encoded_2011-01-05"
                },
                {
                 "idx": 22,
                 "name": "day_of_week_encoded_2011-01-25"
                },
                {
                 "idx": 23,
                 "name": "day_of_week_encoded_2010-12-21"
                },
                {
                 "idx": 24,
                 "name": "day_of_week_encoded_2011-01-21"
                },
                {
                 "idx": 25,
                 "name": "day_of_week_encoded_2011-01-27"
                },
                {
                 "idx": 26,
                 "name": "day_of_week_encoded_2011-01-14"
                },
                {
                 "idx": 27,
                 "name": "day_of_week_encoded_2011-01-20"
                },
                {
                 "idx": 28,
                 "name": "day_of_week_encoded_2011-01-24"
                },
                {
                 "idx": 29,
                 "name": "day_of_week_encoded_2010-12-12"
                },
                {
                 "idx": 30,
                 "name": "day_of_week_encoded_2011-01-13"
                },
                {
                 "idx": 31,
                 "name": "day_of_week_encoded_2011-01-18"
                },
                {
                 "idx": 32,
                 "name": "day_of_week_encoded_2011-01-19"
                },
                {
                 "idx": 33,
                 "name": "day_of_week_encoded_2011-01-11"
                },
                {
                 "idx": 34,
                 "name": "day_of_week_encoded_2010-12-15"
                },
                {
                 "idx": 35,
                 "name": "day_of_week_encoded_2011-01-26"
                },
                {
                 "idx": 36,
                 "name": "day_of_week_encoded_2011-01-04"
                },
                {
                 "idx": 37,
                 "name": "day_of_week_encoded_2011-01-09"
                },
                {
                 "idx": 38,
                 "name": "day_of_week_encoded_2011-01-28"
                },
                {
                 "idx": 39,
                 "name": "day_of_week_encoded_2010-12-23"
                },
                {
                 "idx": 40,
                 "name": "day_of_week_encoded_2011-01-23"
                },
                {
                 "idx": 41,
                 "name": "day_of_week_encoded_2011-01-16"
                },
                {
                 "idx": 42,
                 "name": "day_of_week_encoded_2010-12-19"
                },
                {
                 "idx": 43,
                 "name": "day_of_week_encoded_2010-12-22"
                }
               ],
               "numeric": [
                {
                 "idx": 0,
                 "name": "UnitPrice"
                },
                {
                 "idx": 1,
                 "name": "Quantity"
                }
               ]
              },
              "num_attrs": 44
             }
            },
            "name": "features",
            "nullable": true,
            "type": {
             "class": "org.apache.spark.ml.linalg.VectorUDT",
             "pyClass": "pyspark.ml.linalg.VectorUDT",
             "sqlType": {
              "fields": [
               {
                "metadata": {},
                "name": "type",
                "nullable": false,
                "type": "byte"
               },
               {
                "metadata": {},
                "name": "size",
                "nullable": true,
                "type": "integer"
               },
               {
                "metadata": {},
                "name": "indices",
                "nullable": true,
                "type": {
                 "containsNull": false,
                 "elementType": "integer",
                 "type": "array"
                }
               },
               {
                "metadata": {},
                "name": "values",
                "nullable": true,
                "type": {
                 "containsNull": false,
                 "elementType": "double",
                 "type": "array"
                }
               }
              ],
              "type": "struct"
             },
             "type": "udt"
            }
           }
          ],
          "type": "struct"
         },
         "tableIdentifier": null,
         "typeStr": "pyspark.sql.dataframe.DataFrame"
        }
       ],
       "metadata": {},
       "removedWidgets": [],
       "type": "html"
      }
     },
     "output_type": "display_data"
    }
   ],
   "source": [
    "trans_train = fit_pipeline.transform(train_df).cache()"
   ]
  },
  {
   "cell_type": "code",
   "execution_count": null,
   "metadata": {
    "application/vnd.databricks.v1+cell": {
     "inputWidgets": {},
     "nuid": "00436c9b-fd53-486b-8933-77b16cf92d4d",
     "showTitle": false,
     "title": ""
    }
   },
   "outputs": [
    {
     "data": {
      "text/html": [
       "<style scoped>\n",
       "  .table-result-container {\n",
       "    max-height: 300px;\n",
       "    overflow: auto;\n",
       "  }\n",
       "  table, th, td {\n",
       "    border: 1px solid black;\n",
       "    border-collapse: collapse;\n",
       "  }\n",
       "  th, td {\n",
       "    padding: 5px;\n",
       "  }\n",
       "  th {\n",
       "    text-align: left;\n",
       "  }\n",
       "</style><div class='table-result-container'><table class='table-result'><thead style='background-color: white'><tr><th>InvoiceNo</th><th>StockCode</th><th>Description</th><th>Quantity</th><th>InvoiceDate</th><th>UnitPrice</th><th>CustomerID</th><th>Country</th><th>day_of_week</th><th>day_of_week_index</th><th>day_of_week_encoded</th><th>features</th></tr></thead><tbody><tr><td>537226</td><td>22811</td><td>SET OF 6 T-LIGHTS CACTI </td><td>6</td><td>2010-12-06T08:34:00.000+0000</td><td>2.95</td><td>15987.0</td><td>United Kingdom</td><td>2010-12-06</td><td>0.0</td><td>List(0, 42, List(0), List(1.0))</td><td>List(0, 44, List(0, 1, 2), List(2.95, 6.0, 1.0))</td></tr><tr><td>537226</td><td>21713</td><td>CITRONELLA CANDLE FLOWERPOT</td><td>8</td><td>2010-12-06T08:34:00.000+0000</td><td>2.1</td><td>15987.0</td><td>United Kingdom</td><td>2010-12-06</td><td>0.0</td><td>List(0, 42, List(0), List(1.0))</td><td>List(0, 44, List(0, 1, 2), List(2.1, 8.0, 1.0))</td></tr><tr><td>537226</td><td>22927</td><td>GREEN GIANT GARDEN THERMOMETER</td><td>2</td><td>2010-12-06T08:34:00.000+0000</td><td>5.95</td><td>15987.0</td><td>United Kingdom</td><td>2010-12-06</td><td>0.0</td><td>List(0, 42, List(0), List(1.0))</td><td>List(0, 44, List(0, 1, 2), List(5.95, 2.0, 1.0))</td></tr><tr><td>537226</td><td>20802</td><td>SMALL GLASS SUNDAE DISH CLEAR</td><td>6</td><td>2010-12-06T08:34:00.000+0000</td><td>1.65</td><td>15987.0</td><td>United Kingdom</td><td>2010-12-06</td><td>0.0</td><td>List(0, 42, List(0), List(1.0))</td><td>List(0, 44, List(0, 1, 2), List(1.65, 6.0, 1.0))</td></tr><tr><td>537226</td><td>22052</td><td>VINTAGE CARAVAN GIFT WRAP</td><td>25</td><td>2010-12-06T08:34:00.000+0000</td><td>0.42</td><td>15987.0</td><td>United Kingdom</td><td>2010-12-06</td><td>0.0</td><td>List(0, 42, List(0), List(1.0))</td><td>List(0, 44, List(0, 1, 2), List(0.42, 25.0, 1.0))</td></tr></tbody></table></div>"
      ]
     },
     "metadata": {
      "application/vnd.databricks.v1+output": {
       "addedWidgets": {},
       "aggData": [],
       "aggError": "",
       "aggOverflow": false,
       "aggSchema": [],
       "aggSeriesLimitReached": false,
       "aggType": "",
       "arguments": {},
       "columnCustomDisplayInfos": {},
       "data": [
        [
         "537226",
         "22811",
         "SET OF 6 T-LIGHTS CACTI ",
         6,
         "2010-12-06T08:34:00.000+0000",
         2.95,
         15987,
         "United Kingdom",
         "2010-12-06",
         0,
         [
          0,
          42,
          [
           0
          ],
          [
           1
          ]
         ],
         [
          0,
          44,
          [
           0,
           1,
           2
          ],
          [
           2.95,
           6,
           1
          ]
         ]
        ],
        [
         "537226",
         "21713",
         "CITRONELLA CANDLE FLOWERPOT",
         8,
         "2010-12-06T08:34:00.000+0000",
         2.1,
         15987,
         "United Kingdom",
         "2010-12-06",
         0,
         [
          0,
          42,
          [
           0
          ],
          [
           1
          ]
         ],
         [
          0,
          44,
          [
           0,
           1,
           2
          ],
          [
           2.1,
           8,
           1
          ]
         ]
        ],
        [
         "537226",
         "22927",
         "GREEN GIANT GARDEN THERMOMETER",
         2,
         "2010-12-06T08:34:00.000+0000",
         5.95,
         15987,
         "United Kingdom",
         "2010-12-06",
         0,
         [
          0,
          42,
          [
           0
          ],
          [
           1
          ]
         ],
         [
          0,
          44,
          [
           0,
           1,
           2
          ],
          [
           5.95,
           2,
           1
          ]
         ]
        ],
        [
         "537226",
         "20802",
         "SMALL GLASS SUNDAE DISH CLEAR",
         6,
         "2010-12-06T08:34:00.000+0000",
         1.65,
         15987,
         "United Kingdom",
         "2010-12-06",
         0,
         [
          0,
          42,
          [
           0
          ],
          [
           1
          ]
         ],
         [
          0,
          44,
          [
           0,
           1,
           2
          ],
          [
           1.65,
           6,
           1
          ]
         ]
        ],
        [
         "537226",
         "22052",
         "VINTAGE CARAVAN GIFT WRAP",
         25,
         "2010-12-06T08:34:00.000+0000",
         0.42,
         15987,
         "United Kingdom",
         "2010-12-06",
         0,
         [
          0,
          42,
          [
           0
          ],
          [
           1
          ]
         ],
         [
          0,
          44,
          [
           0,
           1,
           2
          ],
          [
           0.42,
           25,
           1
          ]
         ]
        ]
       ],
       "datasetInfos": [],
       "dbfsResultPath": null,
       "isJsonSchema": true,
       "metadata": {},
       "overflow": false,
       "plotOptions": {
        "customPlotOptions": {},
        "displayType": "table",
        "pivotAggregation": null,
        "pivotColumns": null,
        "xColumns": null,
        "yColumns": null
       },
       "removedWidgets": [],
       "schema": [
        {
         "metadata": "{}",
         "name": "InvoiceNo",
         "type": "\"string\""
        },
        {
         "metadata": "{}",
         "name": "StockCode",
         "type": "\"string\""
        },
        {
         "metadata": "{}",
         "name": "Description",
         "type": "\"string\""
        },
        {
         "metadata": "{}",
         "name": "Quantity",
         "type": "\"integer\""
        },
        {
         "metadata": "{}",
         "name": "InvoiceDate",
         "type": "\"timestamp\""
        },
        {
         "metadata": "{}",
         "name": "UnitPrice",
         "type": "\"double\""
        },
        {
         "metadata": "{}",
         "name": "CustomerID",
         "type": "\"double\""
        },
        {
         "metadata": "{}",
         "name": "Country",
         "type": "\"string\""
        },
        {
         "metadata": "{}",
         "name": "day_of_week",
         "type": "\"string\""
        },
        {
         "metadata": "{\"ml_attr\":{\"vals\":[\"2010-12-06\",\"2010-12-17\",\"2010-12-01\",\"2010-12-07\",\"2010-12-09\",\"2010-12-05\",\"2010-12-10\",\"2010-12-08\",\"2011-01-17\",\"2010-12-13\",\"2010-12-03\",\"2010-12-02\",\"2010-12-14\",\"2011-01-10\",\"2011-01-12\",\"2011-01-06\",\"2011-01-07\",\"2010-12-16\",\"2010-12-20\",\"2011-01-05\",\"2011-01-25\",\"2010-12-21\",\"2011-01-21\",\"2011-01-27\",\"2011-01-14\",\"2011-01-20\",\"2011-01-24\",\"2010-12-12\",\"2011-01-13\",\"2011-01-18\",\"2011-01-19\",\"2011-01-11\",\"2010-12-15\",\"2011-01-26\",\"2011-01-04\",\"2011-01-09\",\"2011-01-28\",\"2010-12-23\",\"2011-01-23\",\"2011-01-16\",\"2010-12-19\",\"2010-12-22\",\"2011-01-30\"],\"type\":\"nominal\",\"name\":\"day_of_week_index\"}}",
         "name": "day_of_week_index",
         "type": "\"double\""
        },
        {
         "metadata": "{\"ml_attr\":{\"attrs\":{\"binary\":[{\"idx\":0,\"name\":\"2010-12-06\"},{\"idx\":1,\"name\":\"2010-12-17\"},{\"idx\":2,\"name\":\"2010-12-01\"},{\"idx\":3,\"name\":\"2010-12-07\"},{\"idx\":4,\"name\":\"2010-12-09\"},{\"idx\":5,\"name\":\"2010-12-05\"},{\"idx\":6,\"name\":\"2010-12-10\"},{\"idx\":7,\"name\":\"2010-12-08\"},{\"idx\":8,\"name\":\"2011-01-17\"},{\"idx\":9,\"name\":\"2010-12-13\"},{\"idx\":10,\"name\":\"2010-12-03\"},{\"idx\":11,\"name\":\"2010-12-02\"},{\"idx\":12,\"name\":\"2010-12-14\"},{\"idx\":13,\"name\":\"2011-01-10\"},{\"idx\":14,\"name\":\"2011-01-12\"},{\"idx\":15,\"name\":\"2011-01-06\"},{\"idx\":16,\"name\":\"2011-01-07\"},{\"idx\":17,\"name\":\"2010-12-16\"},{\"idx\":18,\"name\":\"2010-12-20\"},{\"idx\":19,\"name\":\"2011-01-05\"},{\"idx\":20,\"name\":\"2011-01-25\"},{\"idx\":21,\"name\":\"2010-12-21\"},{\"idx\":22,\"name\":\"2011-01-21\"},{\"idx\":23,\"name\":\"2011-01-27\"},{\"idx\":24,\"name\":\"2011-01-14\"},{\"idx\":25,\"name\":\"2011-01-20\"},{\"idx\":26,\"name\":\"2011-01-24\"},{\"idx\":27,\"name\":\"2010-12-12\"},{\"idx\":28,\"name\":\"2011-01-13\"},{\"idx\":29,\"name\":\"2011-01-18\"},{\"idx\":30,\"name\":\"2011-01-19\"},{\"idx\":31,\"name\":\"2011-01-11\"},{\"idx\":32,\"name\":\"2010-12-15\"},{\"idx\":33,\"name\":\"2011-01-26\"},{\"idx\":34,\"name\":\"2011-01-04\"},{\"idx\":35,\"name\":\"2011-01-09\"},{\"idx\":36,\"name\":\"2011-01-28\"},{\"idx\":37,\"name\":\"2010-12-23\"},{\"idx\":38,\"name\":\"2011-01-23\"},{\"idx\":39,\"name\":\"2011-01-16\"},{\"idx\":40,\"name\":\"2010-12-19\"},{\"idx\":41,\"name\":\"2010-12-22\"}]},\"num_attrs\":42}}",
         "name": "day_of_week_encoded",
         "type": "{\"type\":\"udt\",\"class\":\"org.apache.spark.ml.linalg.VectorUDT\",\"pyClass\":\"pyspark.ml.linalg.VectorUDT\",\"sqlType\":{\"type\":\"struct\",\"fields\":[{\"name\":\"type\",\"type\":\"byte\",\"nullable\":false,\"metadata\":{}},{\"name\":\"size\",\"type\":\"integer\",\"nullable\":true,\"metadata\":{}},{\"name\":\"indices\",\"type\":{\"type\":\"array\",\"elementType\":\"integer\",\"containsNull\":false},\"nullable\":true,\"metadata\":{}},{\"name\":\"values\",\"type\":{\"type\":\"array\",\"elementType\":\"double\",\"containsNull\":false},\"nullable\":true,\"metadata\":{}}]}}"
        },
        {
         "metadata": "{\"ml_attr\":{\"attrs\":{\"numeric\":[{\"idx\":0,\"name\":\"UnitPrice\"},{\"idx\":1,\"name\":\"Quantity\"}],\"binary\":[{\"idx\":2,\"name\":\"day_of_week_encoded_2010-12-06\"},{\"idx\":3,\"name\":\"day_of_week_encoded_2010-12-17\"},{\"idx\":4,\"name\":\"day_of_week_encoded_2010-12-01\"},{\"idx\":5,\"name\":\"day_of_week_encoded_2010-12-07\"},{\"idx\":6,\"name\":\"day_of_week_encoded_2010-12-09\"},{\"idx\":7,\"name\":\"day_of_week_encoded_2010-12-05\"},{\"idx\":8,\"name\":\"day_of_week_encoded_2010-12-10\"},{\"idx\":9,\"name\":\"day_of_week_encoded_2010-12-08\"},{\"idx\":10,\"name\":\"day_of_week_encoded_2011-01-17\"},{\"idx\":11,\"name\":\"day_of_week_encoded_2010-12-13\"},{\"idx\":12,\"name\":\"day_of_week_encoded_2010-12-03\"},{\"idx\":13,\"name\":\"day_of_week_encoded_2010-12-02\"},{\"idx\":14,\"name\":\"day_of_week_encoded_2010-12-14\"},{\"idx\":15,\"name\":\"day_of_week_encoded_2011-01-10\"},{\"idx\":16,\"name\":\"day_of_week_encoded_2011-01-12\"},{\"idx\":17,\"name\":\"day_of_week_encoded_2011-01-06\"},{\"idx\":18,\"name\":\"day_of_week_encoded_2011-01-07\"},{\"idx\":19,\"name\":\"day_of_week_encoded_2010-12-16\"},{\"idx\":20,\"name\":\"day_of_week_encoded_2010-12-20\"},{\"idx\":21,\"name\":\"day_of_week_encoded_2011-01-05\"},{\"idx\":22,\"name\":\"day_of_week_encoded_2011-01-25\"},{\"idx\":23,\"name\":\"day_of_week_encoded_2010-12-21\"},{\"idx\":24,\"name\":\"day_of_week_encoded_2011-01-21\"},{\"idx\":25,\"name\":\"day_of_week_encoded_2011-01-27\"},{\"idx\":26,\"name\":\"day_of_week_encoded_2011-01-14\"},{\"idx\":27,\"name\":\"day_of_week_encoded_2011-01-20\"},{\"idx\":28,\"name\":\"day_of_week_encoded_2011-01-24\"},{\"idx\":29,\"name\":\"day_of_week_encoded_2010-12-12\"},{\"idx\":30,\"name\":\"day_of_week_encoded_2011-01-13\"},{\"idx\":31,\"name\":\"day_of_week_encoded_2011-01-18\"},{\"idx\":32,\"name\":\"day_of_week_encoded_2011-01-19\"},{\"idx\":33,\"name\":\"day_of_week_encoded_2011-01-11\"},{\"idx\":34,\"name\":\"day_of_week_encoded_2010-12-15\"},{\"idx\":35,\"name\":\"day_of_week_encoded_2011-01-26\"},{\"idx\":36,\"name\":\"day_of_week_encoded_2011-01-04\"},{\"idx\":37,\"name\":\"day_of_week_encoded_2011-01-09\"},{\"idx\":38,\"name\":\"day_of_week_encoded_2011-01-28\"},{\"idx\":39,\"name\":\"day_of_week_encoded_2010-12-23\"},{\"idx\":40,\"name\":\"day_of_week_encoded_2011-01-23\"},{\"idx\":41,\"name\":\"day_of_week_encoded_2011-01-16\"},{\"idx\":42,\"name\":\"day_of_week_encoded_2010-12-19\"},{\"idx\":43,\"name\":\"day_of_week_encoded_2010-12-22\"}]},\"num_attrs\":44}}",
         "name": "features",
         "type": "{\"type\":\"udt\",\"class\":\"org.apache.spark.ml.linalg.VectorUDT\",\"pyClass\":\"pyspark.ml.linalg.VectorUDT\",\"sqlType\":{\"type\":\"struct\",\"fields\":[{\"name\":\"type\",\"type\":\"byte\",\"nullable\":false,\"metadata\":{}},{\"name\":\"size\",\"type\":\"integer\",\"nullable\":true,\"metadata\":{}},{\"name\":\"indices\",\"type\":{\"type\":\"array\",\"elementType\":\"integer\",\"containsNull\":false},\"nullable\":true,\"metadata\":{}},{\"name\":\"values\",\"type\":{\"type\":\"array\",\"elementType\":\"double\",\"containsNull\":false},\"nullable\":true,\"metadata\":{}}]}}"
        }
       ],
       "type": "table"
      }
     },
     "output_type": "display_data"
    }
   ],
   "source": [
    "display(trans_train.limit(5))"
   ]
  },
  {
   "cell_type": "markdown",
   "metadata": {
    "application/vnd.databricks.v1+cell": {
     "inputWidgets": {},
     "nuid": "62c70d91-1f76-4eae-9313-dd45d9eadc6c",
     "showTitle": false,
     "title": ""
    }
   },
   "source": [
    "-----\n",
    "- 모델의 하이퍼파라미터를 튜닝할 때, <strong>캐싱</strong>을 사용하면 중간 변환된 데이터셋의 복사본을 메모리에 저장하므로 빠르게 반복적으로 수행 가능"
   ]
  },
  {
   "cell_type": "markdown",
   "metadata": {
    "application/vnd.databricks.v1+cell": {
     "inputWidgets": {},
     "nuid": "a09f2213-1d2d-4886-9839-91bc3fa5cacb",
     "showTitle": false,
     "title": ""
    }
   },
   "source": [
    "#### 모델 적용\n",
    "- MLlib의 DataFrame API에서 제공하는 모든 알고리즘은 항상 두 가지 유형\n",
    "  - [알고리즘명]: 학습 전 명칭\n",
    "  - [알고리즘명]+Model: 학습 후 명칭"
   ]
  },
  {
   "cell_type": "code",
   "execution_count": null,
   "metadata": {
    "application/vnd.databricks.v1+cell": {
     "inputWidgets": {},
     "nuid": "e240666e-8596-4aa2-9c6b-88c6388825e9",
     "showTitle": false,
     "title": ""
    }
   },
   "outputs": [
    {
     "data": {
      "text/html": [
       "<style scoped>\n",
       "  .ansiout {\n",
       "    display: block;\n",
       "    unicode-bidi: embed;\n",
       "    white-space: pre-wrap;\n",
       "    word-wrap: break-word;\n",
       "    word-break: break-all;\n",
       "    font-family: \"Source Code Pro\", \"Menlo\", monospace;;\n",
       "    font-size: 13px;\n",
       "    color: #555;\n",
       "    margin-left: 4px;\n",
       "    line-height: 19px;\n",
       "  }\n",
       "</style>\n",
       "<div class=\"ansiout\"></div>"
      ]
     },
     "metadata": {
      "application/vnd.databricks.v1+output": {
       "addedWidgets": {},
       "arguments": {},
       "data": "<div class=\"ansiout\"></div>",
       "datasetInfos": [],
       "metadata": {},
       "removedWidgets": [],
       "type": "html"
      }
     },
     "output_type": "display_data"
    }
   ],
   "source": [
    "from pyspark.ml.clustering import KMeans,KMeansModel\n",
    "kmeans= KMeans().setK(10).setSeed(1)"
   ]
  },
  {
   "cell_type": "code",
   "execution_count": null,
   "metadata": {
    "application/vnd.databricks.v1+cell": {
     "inputWidgets": {},
     "nuid": "2bf8f148-43dd-429d-b8d4-4a78eb3544b9",
     "showTitle": false,
     "title": ""
    }
   },
   "outputs": [
    {
     "data": {
      "text/html": [
       "<style scoped>\n",
       "  .ansiout {\n",
       "    display: block;\n",
       "    unicode-bidi: embed;\n",
       "    white-space: pre-wrap;\n",
       "    word-wrap: break-word;\n",
       "    word-break: break-all;\n",
       "    font-family: \"Source Code Pro\", \"Menlo\", monospace;;\n",
       "    font-size: 13px;\n",
       "    color: #555;\n",
       "    margin-left: 4px;\n",
       "    line-height: 19px;\n",
       "  }\n",
       "</style>\n",
       "<div class=\"ansiout\"></div>"
      ]
     },
     "metadata": {
      "application/vnd.databricks.v1+output": {
       "addedWidgets": {},
       "arguments": {},
       "data": "<div class=\"ansiout\"></div>",
       "datasetInfos": [],
       "metadata": {},
       "removedWidgets": [],
       "type": "html"
      }
     },
     "output_type": "display_data"
    }
   ],
   "source": [
    "model = kmeans.fit(trans_train)"
   ]
  },
  {
   "cell_type": "code",
   "execution_count": null,
   "metadata": {
    "application/vnd.databricks.v1+cell": {
     "inputWidgets": {},
     "nuid": "27f57631-2139-4472-8fdc-50bfdfac3740",
     "showTitle": false,
     "title": ""
    }
   },
   "outputs": [
    {
     "data": {
      "text/html": [
       "<style scoped>\n",
       "  .ansiout {\n",
       "    display: block;\n",
       "    unicode-bidi: embed;\n",
       "    white-space: pre-wrap;\n",
       "    word-wrap: break-word;\n",
       "    word-break: break-all;\n",
       "    font-family: \"Source Code Pro\", \"Menlo\", monospace;;\n",
       "    font-size: 13px;\n",
       "    color: #555;\n",
       "    margin-left: 4px;\n",
       "    line-height: 19px;\n",
       "  }\n",
       "</style>\n",
       "<div class=\"ansiout\"><span class=\"ansired\">Out[</span><span class=\"ansired\">89</span><span class=\"ansired\">]: </span>37504492.819086105</div>"
      ]
     },
     "metadata": {
      "application/vnd.databricks.v1+output": {
       "addedWidgets": {},
       "arguments": {},
       "data": "<div class=\"ansiout\"><span class=\"ansired\">Out[</span><span class=\"ansired\">89</span><span class=\"ansired\">]: </span>37504492.819086105</div>",
       "datasetInfos": [],
       "metadata": {},
       "removedWidgets": [],
       "type": "html"
      }
     },
     "output_type": "display_data"
    }
   ],
   "source": [
    "#학습 데이터셋에 대한 비용 계산\n",
    "model.computeCost(trans_train)"
   ]
  },
  {
   "cell_type": "markdown",
   "metadata": {
    "application/vnd.databricks.v1+cell": {
     "inputWidgets": {},
     "nuid": "4e014402-59c5-419e-bd25-bbb02ea1704e",
     "showTitle": false,
     "title": ""
    }
   },
   "source": [
    "-----\n",
    "- 군집 비용을 말하며, 각 군집 중심점과의 제곱거리의 합을 의미"
   ]
  },
  {
   "cell_type": "markdown",
   "metadata": {
    "application/vnd.databricks.v1+cell": {
     "inputWidgets": {},
     "nuid": "a22635d4-9ad2-45ae-a14a-bcfb40b65096",
     "showTitle": false,
     "title": ""
    }
   },
   "source": [
    "## 저수준 API\n",
    "- 스파크의 <strong>거의 모든 기능은 RDD 기반</strong>으로 만들어짐\n",
    "  - DataFrame 연산도 RDD 기반으로 만들어졌고, 매우 효율적인 분산 처리를 위해 저수준 명령으로 컴파일됨\n",
    "- RDD를 이용하면 파티션과 같은 <strong>물리적 실행 특성을 결정</strong>할 수 있다는 장점이 있음\n",
    "  - 구조적 API보다 더 세밀한 제어 가능(근데 대부분은 구조적 API를 사용하는게 좋음)\n",
    "  - 메모리에 저장된 원시 데이터를 병렬처리하는 데 RDD 사용\n",
    "  - 비정형 데이터나 정제되지 않은 원시 데이터를 처리해야 한다면 RDD를 사용해야함"
   ]
  },
  {
   "cell_type": "code",
   "execution_count": null,
   "metadata": {
    "application/vnd.databricks.v1+cell": {
     "inputWidgets": {},
     "nuid": "de53ea56-ac98-4bf1-890f-985212bddf42",
     "showTitle": false,
     "title": ""
    }
   },
   "outputs": [
    {
     "data": {
      "text/html": [
       "<style scoped>\n",
       "  .ansiout {\n",
       "    display: block;\n",
       "    unicode-bidi: embed;\n",
       "    white-space: pre-wrap;\n",
       "    word-wrap: break-word;\n",
       "    word-break: break-all;\n",
       "    font-family: \"Source Code Pro\", \"Menlo\", monospace;;\n",
       "    font-size: 13px;\n",
       "    color: #555;\n",
       "    margin-left: 4px;\n",
       "    line-height: 19px;\n",
       "  }\n",
       "</style>\n",
       "<div class=\"ansiout\"><span class=\"ansired\">Out[</span><span class=\"ansired\">91</span><span class=\"ansired\">]: </span>DataFrame[_1: bigint]</div>"
      ]
     },
     "metadata": {
      "application/vnd.databricks.v1+output": {
       "addedWidgets": {},
       "arguments": {},
       "data": "<div class=\"ansiout\"><span class=\"ansired\">Out[</span><span class=\"ansired\">91</span><span class=\"ansired\">]: </span>DataFrame[_1: bigint]</div>",
       "datasetInfos": [],
       "metadata": {},
       "removedWidgets": [],
       "type": "html"
      }
     },
     "output_type": "display_data"
    }
   ],
   "source": [
    "from pyspark.sql import Row\n",
    "spark.sparkContext.parallelize([Row(1), Row(2), Row(3)]).toDF()"
   ]
  },
  {
   "cell_type": "markdown",
   "metadata": {
    "application/vnd.databricks.v1+cell": {
     "inputWidgets": {},
     "nuid": "76c2bc6d-e371-4a55-969f-fb50f1660e1b",
     "showTitle": false,
     "title": ""
    }
   },
   "source": [
    "## SparkR\n",
    "- 스파크를 R언어로 사용하기 위한 기능\n",
    "- 파이썬 API와 유사"
   ]
  }
 ],
 "metadata": {
  "application/vnd.databricks.v1+notebook": {
   "dashboards": [],
   "language": "python",
   "notebookMetadata": {
    "pythonIndentUnit": 2
   },
   "notebookName": "Chapter3",
   "notebookOrigID": 4153946387541702,
   "widgets": {}
  },
  "kernelspec": {
   "display_name": "Python 3 (ipykernel)",
   "language": "python",
   "name": "python3"
  },
  "language_info": {
   "codemirror_mode": {
    "name": "ipython",
    "version": 3
   },
   "file_extension": ".py",
   "mimetype": "text/x-python",
   "name": "python",
   "nbconvert_exporter": "python",
   "pygments_lexer": "ipython3",
   "version": "3.9.7"
  }
 },
 "nbformat": 4,
 "nbformat_minor": 4
}
