{
 "cells": [
  {
   "cell_type": "markdown",
   "metadata": {
    "application/vnd.databricks.v1+cell": {
     "inputWidgets": {},
     "nuid": "fa59056d-7563-4e99-9bbc-ca800a5fc42f",
     "showTitle": false,
     "title": ""
    }
   },
   "source": [
    "# 스파크 간단히 살펴보기"
   ]
  },
  {
   "cell_type": "markdown",
   "metadata": {
    "application/vnd.databricks.v1+cell": {
     "inputWidgets": {},
     "nuid": "90619ff7-f5eb-499f-be18-3a9e7a8990dc",
     "showTitle": false,
     "title": ""
    }
   },
   "source": [
    "## 스파크의 기본 아키텍처\n",
    "- 보통 한 대의 컴퓨터는 대규모 정보를 연산할 만한 자원이나 성능을 가지지 못함\n",
    "  - 연산을 할 수 있다고 해도 완료하는데 너무 많은 시간이 걸림\n",
    "\n",
    "- 컴퓨터 클러스터는 <strong>여러 컴퓨터의 자원을 모아 하나의 컴퓨터처럼 사용</strong>할 수 있게 만듦\n",
    "\n",
    "- 이 <strong>클러스터에서 작업을 조율</strong>할 수 있는 프레임워크가 필요 <strong>-> 스파크</strong>가 그런 역할을 하는 프레임워크\n",
    "\n",
    "- 스파크가 연산에 사용할 클러스터는 <strong>클러스터 매니저</strong>에서 관리함\n",
    "  - 아래 3가지 중에서 하나를 선택할 수 있음\n",
    "      - 스파크 Standalone\n",
    "      - 하둡 YARN\n",
    "      - 메소스 Mesos\n",
    "\n",
    "- 작업 처리 과정\n",
    "  1. 사용자는 클러스터 매니저에 스파크 애플리케이션을 제출(submit)함\n",
    "  2. 이를 제출받은 클러스터 매니저는 애플리케이션 실행에 필요한 자원을 할당\n",
    "  3. 할당받은 자원으로 작업 처리\n",
    "  \n",
    "<img src=\"https://t1.daumcdn.net/cfile/tistory/991779375DEA85D00B\"/>"
   ]
  },
  {
   "cell_type": "markdown",
   "metadata": {
    "application/vnd.databricks.v1+cell": {
     "inputWidgets": {},
     "nuid": "128be9f7-356f-4206-93f7-bdab3734c4fd",
     "showTitle": false,
     "title": ""
    }
   },
   "source": [
    "## 스파크 애플리케이션\n",
    "\n",
    "<img src=\"https://t1.daumcdn.net/cfile/tistory/99916B495DEA927C01\"/>\n",
    "\n",
    "- 스파크 애플리케이션은 <strong>드라이버 프로세스</strong>와 다수의 <strong>익스큐터 프로세스</strong>로 구성\n",
    "\n",
    "- 드라이버 프로세스의 역할\n",
    "  - 드라이버 프로세스는 클러스터 노드 중 하나에서 실행되며, main()함수 실행\n",
    "      - 스파크 애플리케이션의 심장 같은 존재로, 애플리케이션 수명 주기 동안 관련 정보를 모두 유지함\n",
    "          - 스파크 어플리케이션 정보의 유지 관리\n",
    "          - 사용자 프로그램이나 입력에 대한 응답\n",
    "          - 전반적인 익스큐터 프로세스의 작업과 관련된 분석, 배포, 스케줄링\n",
    "  - 스파크 언어 API를 통해 다양한 언어로 실행 가능\n",
    "  \n",
    "- 익스큐터 드라이버의 역할\n",
    "  - 드라이버 프로세스가 할당한 작업을 수행\n",
    "    - 즉, 할당한 코드를 실행하고, \n",
    "    - 진행 상황을 다시 드라이버 노드에 보고\n",
    "    \n",
    "- 위 그림에 나타나있지 않지만, 사용자가 각 클러스터 노드에 할당할 익스큐터 수를 지정할 수 있음\n",
    "\n",
    "- 로컬 모드에서는 단일 머신에서 스레드 형태로 실행"
   ]
  },
  {
   "cell_type": "markdown",
   "metadata": {
    "application/vnd.databricks.v1+cell": {
     "inputWidgets": {},
     "nuid": "3bbfa8e5-afc4-433d-81c6-e93c92db1795",
     "showTitle": false,
     "title": ""
    },
    "tags": []
   },
   "source": [
    "## 스파크 언어 API\n",
    "- 스파크의 언어 API를 이용하면 다양한 프로그래밍 언어(스칼라, 자바, 파이썬, SQL, R)로 스파크 코드를 실행할 수 있다.\n",
    "  - 스파크는 스칼라로 개발(기본 언어)\n",
    "  - 스파크 언어 API를 통해 클러스터 머신에서 실행되는 스파크 코드로 변환\n",
    "\n",
    "- 스파크는 사용자를 대신해 <strong>파이썬, R로 작성한 코드를 익스큐터의 JVM에서 실행할 수 있는 코드로 변환함</strong>\n",
    "\n",
    "- https://velog.io/@cha-suyeon/PySpark-%EC%84%A4%EC%B9%98-%EB%B0%8F-SparkContext%EB%A5%BC-%ED%86%B5%ED%95%9C-%EC%8A%A4%ED%8C%8C%ED%81%AC-%EC%B4%88%EA%B8%B0%ED%99%94"
   ]
  },
  {
   "cell_type": "markdown",
   "metadata": {
    "tags": []
   },
   "source": [
    "## 스파크 API\n",
    "- 저수준의 비구조적 API\n",
    "- 고수준의 구조적 API"
   ]
  },
  {
   "cell_type": "markdown",
   "metadata": {},
   "source": [
    "## SparkSession"
   ]
  },
  {
   "cell_type": "markdown",
   "metadata": {
    "tags": []
   },
   "source": [
    "## DataFrame\n",
    "\n",
    "### 파티션"
   ]
  },
  {
   "cell_type": "markdown",
   "metadata": {},
   "source": [
    "##  트렌스포메이션\n",
    "- 스파크의 핵심 데이터 구조는 <strong>불변성(immutable)</strong>을 가짐\n",
    "- 데이터 구조를 변경하려면 <strong>변경 방법을 스파크에게 알려줘야함</strong>\n",
    "- 이때 사용하는 <strong>명령을 트랜스포메이션</strong>이라함"
   ]
  },
  {
   "cell_type": "markdown",
   "metadata": {
    "application/vnd.databricks.v1+cell": {
     "inputWidgets": {},
     "nuid": "9bdba9cd-b330-4aa3-af08-cef64a955059",
     "showTitle": false,
     "title": ""
    }
   },
   "source": [
    "### 좁은 의존성\n",
    "\n",
    "<img src=\"https://www.programmersought.com/images/12/f59d1f9135f1df04d7d7a2005637add4.png\"/>"
   ]
  },
  {
   "cell_type": "markdown",
   "metadata": {
    "application/vnd.databricks.v1+cell": {
     "inputWidgets": {},
     "nuid": "e06d3b4e-f5f8-44f0-b5d4-90cd9a370086",
     "showTitle": false,
     "title": ""
    }
   },
   "source": [
    "- <strong>각 입력 파티션이 하나의 출력 파티션</strong>에만 영향을 미치는 것\n",
    "- 위 예제에서 where 구문은 좁은 의존성을 가짐\n",
    "- 파이프라이닝을 자동으로 수행함\n",
    "  - 모든 작업이 <strong>메모리</strong>에서 일어남"
   ]
  },
  {
   "cell_type": "markdown",
   "metadata": {
    "application/vnd.databricks.v1+cell": {
     "inputWidgets": {},
     "nuid": "f60863a3-7668-4a94-b738-e42ceff24639",
     "showTitle": false,
     "title": ""
    }
   },
   "source": [
    "### 넓은 의존성\n",
    "<img src=\"https://www.programmersought.com/images/972/ac3487a04dc258a5a6aaf4e5fe62a8dc.png\"/>"
   ]
  },
  {
   "cell_type": "markdown",
   "metadata": {
    "application/vnd.databricks.v1+cell": {
     "inputWidgets": {},
     "nuid": "72c75b26-9671-4dbb-b959-6c0cf7dac7f2",
     "showTitle": false,
     "title": ""
    }
   },
   "source": [
    "- <strong>하나의 입력 파티션이 여러 출력 파티션</strong>에 영향을 미침\n",
    "- 스파크가 클러스터에서 파티션을 교환하는 <strong>셔플</strong>이 수행됨\n",
    "  - 셔플의 결과를 <strong>디스크</strong>에 저장함"
   ]
  },
  {
   "cell_type": "markdown",
   "metadata": {
    "application/vnd.databricks.v1+cell": {
     "inputWidgets": {},
     "nuid": "8daa163c-bf80-4dc4-8bd0-99b52b4d5de8",
     "showTitle": false,
     "title": ""
    }
   },
   "source": [
    "### 지연 연산\n",
    "- <strong>스파크가 연산 그래프를 처리하기 직전까지 기다리는 동작 방식</strong>\n",
    "  - 스파크는 연산 명령이 내려진 즉시 데이터를 수정하지 않음\n",
    "  - 원시 데이터에 적용할 트랜스포메이션의 <strong>논리적 실행 계획</strong>을 생성함\n",
    "  - 코드를 실행하는 마지막 순간까지 대기하다가 트랜스포메이션을 간결한 <strong>물리적 실행 계획</strong>으로 컴파일함\n",
    "- 이를 통해 전체 데이터 흐름을 <strong>최적화</strong>할 수 있는 것임\n",
    "- ex) 하나의 로우만 가져오는 필터를 가지고 있다면 필요한 레코드 하나만 읽는 것이 효율적이므로 하나의 레코드만 받음"
   ]
  },
  {
   "cell_type": "markdown",
   "metadata": {
    "application/vnd.databricks.v1+cell": {
     "inputWidgets": {},
     "nuid": "d3bb2e45-fc0b-4c49-b986-b566b40e2f88",
     "showTitle": false,
     "title": ""
    }
   },
   "source": [
    "## 액션"
   ]
  },
  {
   "cell_type": "markdown",
   "metadata": {
    "application/vnd.databricks.v1+cell": {
     "inputWidgets": {},
     "nuid": "6164a3fe-8d82-495f-b8d8-2f27de913be3",
     "showTitle": false,
     "title": ""
    }
   },
   "source": [
    "## 스파크 UI"
   ]
  }
 ],
 "metadata": {
  "application/vnd.databricks.v1+notebook": {
   "dashboards": [],
   "language": "python",
   "notebookMetadata": {
    "pythonIndentUnit": 2
   },
   "notebookName": "Chapter2",
   "notebookOrigID": 4377204471961398,
   "widgets": {}
  },
  "kernelspec": {
   "display_name": "Python 3 (ipykernel)",
   "language": "python",
   "name": "python3"
  },
  "language_info": {
   "codemirror_mode": {
    "name": "ipython",
    "version": 3
   },
   "file_extension": ".py",
   "mimetype": "text/x-python",
   "name": "python",
   "nbconvert_exporter": "python",
   "pygments_lexer": "ipython3",
   "version": "3.9.7"
  }
 },
 "nbformat": 4,
 "nbformat_minor": 4
}
