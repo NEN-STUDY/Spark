{
 "cells": [
  {
   "cell_type": "markdown",
   "metadata": {
    "application/vnd.databricks.v1+cell": {
     "inputWidgets": {},
     "nuid": "6fe56388-6925-4e9c-9507-14d10621e0fc",
     "showTitle": false,
     "title": ""
    }
   },
   "source": [
    "# RDD\n",
    "https://wikidocs.net/28377"
   ]
  },
  {
   "cell_type": "markdown",
   "metadata": {
    "application/vnd.databricks.v1+cell": {
     "inputWidgets": {},
     "nuid": "5c44d4ae-cb7f-4069-afb1-0fab20fdae4c",
     "showTitle": false,
     "title": ""
    }
   },
   "source": [
    "## 저수준 API란\n",
    "- 스파크에는 두 종류의 저수준 API가 있음\n",
    "  1. <strong>분산 데이터 처리</strong>를 위한 RDD\n",
    "  2. <strong>분산형 공유 변수</strong>를 배포하고 다루기 위한 API(브로드캐스트 변수와 어큐뮬레이터)"
   ]
  },
  {
   "cell_type": "markdown",
   "metadata": {
    "application/vnd.databricks.v1+cell": {
     "inputWidgets": {},
     "nuid": "c5df5e00-0642-47e7-8c19-3402f1532598",
     "showTitle": false,
     "title": ""
    }
   },
   "source": [
    "### 저수준 API는 언제 사용할까\n",
    "- 구조적 API 위주로 사용하는 것이 좋으나, <strong>고수준 API에서 제공하지 않는 기능</strong>이 필요한 경우에 사용\n",
    "  - 클러스터의 물리적 데이터의 배치를 아주 세밀하게 제어해야하는 상황\n",
    "  - RDD를 사용해 개발된 기존 코드를 유지해야 하는 상황\n",
    "  - 사용자가 정의한 공유 변수를 다뤄야 하는 상황\n",
    "      - 14장에서 설명\n",
    "\n",
    "- 스파크의 모든 워크로드는 <strong>저수준 기능을 사용하는 기초적인 형태로 컴파일</strong>되므로 이를 이해하는 것은 많은 도움이 될 수 있음\n",
    "  - <strong>DataFrame 트랜스포메이션</strong>을 호출하면 다수의 <strong>RDD 트랜스포메이션</strong>으로 변환"
   ]
  },
  {
   "cell_type": "markdown",
   "metadata": {
    "application/vnd.databricks.v1+cell": {
     "inputWidgets": {},
     "nuid": "6311e5c4-1c34-40be-ae25-ba494e86ceb6",
     "showTitle": false,
     "title": ""
    }
   },
   "source": [
    "### 저수준 API는 어떻게 사용할까\n",
    "- <strong>SparkContext</strong>는 저수준 API 기능을 사용하기 위한 진입 지점\n",
    "- 스파크 클러스터에서 연산을 수행하는데 필요한 도구인 SparkSession을 이용해 접근 가능\n",
    "- 15장에서 설명"
   ]
  },
  {
   "cell_type": "code",
   "execution_count": null,
   "metadata": {
    "application/vnd.databricks.v1+cell": {
     "inputWidgets": {},
     "nuid": "846a0296-4863-4c7a-8e89-f0838d24e9e9",
     "showTitle": false,
     "title": ""
    }
   },
   "outputs": [
    {
     "data": {
      "text/html": [
       "<style scoped>\n",
       "  .ansiout {\n",
       "    display: block;\n",
       "    unicode-bidi: embed;\n",
       "    white-space: pre-wrap;\n",
       "    word-wrap: break-word;\n",
       "    word-break: break-all;\n",
       "    font-family: \"Source Code Pro\", \"Menlo\", monospace;;\n",
       "    font-size: 13px;\n",
       "    color: #555;\n",
       "    margin-left: 4px;\n",
       "    line-height: 19px;\n",
       "  }\n",
       "</style>\n",
       "<div class=\"ansiout\">Out[1]: </div>"
      ]
     },
     "metadata": {
      "application/vnd.databricks.v1+output": {
       "addedWidgets": {},
       "arguments": {},
       "data": "<div class=\"ansiout\">Out[1]: </div>",
       "datasetInfos": [],
       "metadata": {},
       "removedWidgets": [],
       "type": "html"
      }
     },
     "output_type": "display_data"
    },
    {
     "data": {
      "text/html": [
       "\n",
       "        <div>\n",
       "            <p><b>SparkContext</b></p>\n",
       "\n",
       "            <p><a href=\"/?o=840456938291761#setting/sparkui/0810-123458-umps452/driver-6474518529836545639\">Spark UI</a></p>\n",
       "\n",
       "            <dl>\n",
       "              <dt>Version</dt>\n",
       "                <dd><code>v3.1.0</code></dd>\n",
       "              <dt>Master</dt>\n",
       "                <dd><code>local[8]</code></dd>\n",
       "              <dt>AppName</dt>\n",
       "                <dd><code>Databricks Shell</code></dd>\n",
       "            </dl>\n",
       "        </div>\n",
       "        "
      ]
     },
     "metadata": {
      "application/vnd.databricks.v1+output": {
       "addedWidgets": {},
       "arguments": {},
       "data": "\n        <div>\n            <p><b>SparkContext</b></p>\n\n            <p><a href=\"/?o=840456938291761#setting/sparkui/0810-123458-umps452/driver-6474518529836545639\">Spark UI</a></p>\n\n            <dl>\n              <dt>Version</dt>\n                <dd><code>v3.1.0</code></dd>\n              <dt>Master</dt>\n                <dd><code>local[8]</code></dd>\n              <dt>AppName</dt>\n                <dd><code>Databricks Shell</code></dd>\n            </dl>\n        </div>\n        ",
       "datasetInfos": [],
       "metadata": {},
       "removedWidgets": [],
       "textData": null,
       "type": "htmlSandbox"
      }
     },
     "output_type": "display_data"
    }
   ],
   "source": [
    "spark.sparkContext"
   ]
  },
  {
   "cell_type": "markdown",
   "metadata": {
    "application/vnd.databricks.v1+cell": {
     "inputWidgets": {},
     "nuid": "2e4df53b-585d-4c03-996e-0ab94ead59c8",
     "showTitle": false,
     "title": ""
    }
   },
   "source": [
    "## RDD 개요\n",
    "- <strong>불변성</strong>을 가지며 <strong>병렬</strong>로 처리할 수 있는 <strong>파티셔닝된 레코드</strong>의 모음\n",
    "\n",
    "- RDD의 레코드는 프로그래머가 선택하는 <strong>자바, 스칼라, 파이썬의 객체</strong>\n",
    "  - cf) DataFrame의 레코드는 스키마를 알고, 필드로 구성된 구조화된 로우\n",
    "\n",
    "- 이러한 객체에는 <strong>사용자가 원하는 포맷</strong>을 사용해 원하는 모든 데이터를 저장할 수 있음\n",
    "\n",
    "- 모든 값을 다루거나 값 사이의 상호작용 과정은 반드시 <strong>수동으로 정의</strong>\n",
    "\n",
    "- spark에서는 RDD레코드의 내부 구조를 파악할 수 없으므로 <strong>수작업으로 최적화</strong>\n",
    "  - 필터 재정렬, 집계 등의 최적화 기법 직접 구현\n",
    "  \n",
    "- Dataset과 유사하지만 RDD는 구조화된 데이터 엔진을 사용해서 데이터를 다루지 않음\n",
    "    - RDD와 Dataset 사이의 전환은 매우 쉬움"
   ]
  },
  {
   "cell_type": "markdown",
   "metadata": {
    "application/vnd.databricks.v1+cell": {
     "inputWidgets": {},
     "nuid": "f24c53dc-2d41-4977-a910-0de21e00908b",
     "showTitle": false,
     "title": ""
    }
   },
   "source": [
    "### RDD 유형\n",
    "- 두 가지 타입의 RDD를 만들 수 있음\n",
    "  1. <strong>제네릭</strong> RDD 타입\n",
    "  2. <strong>키-값</strong> RDD 타입\n",
    "  \n",
    "- <strong>RDD의 주요 속성</strong>\n",
    "  - 파티션의 목록\n",
    "  - 각 조각을 연산하는 함수\n",
    "  - 다른 RDD와의 의존성 목록\n",
    "  - 부가적으로 키-값 RDD를 위한 Partitioner\n",
    "      - Partitioner는 RDD를 사용하는 주된 이유 중 하나. 올바른 사용자 정의 Partitioner를 사용하면 성능과 안정성이 크게 향상됨. 13장 키-값 쌍 RDD에서 다룸.\n",
    "  - 부가적으로 각 조각을 연산하기 위한 기본 위치 목록\n",
    "  \n",
    "- 이러한 속성은 사용자 프로그램을 <strong>스케줄링하고 실행하는 스파크의 모든 처리 방식을 결정</strong>\n",
    "\n",
    "- 또한 RDD 역시 <strong>트랜스포메이션, 액션</strong> 제공\n",
    "  - DataFrame과 Dataset의 트랜스포메이션, 액션과 동일한 방식으로 동작\n",
    "    - 하지만 RDD에는 '로우'개념이 없으므로 구조적 API에서 제공하는 여러 함수를 사용하지 못하므로 수동으로 처리\n",
    "\n",
    "- <strong>언어별 성능 차이</strong>\n",
    "  - 스칼라, 자바는 비슷\n",
    "  - 파이썬은 상당한 성능 저하가 발생\n",
    "    - 파이썬으로 만들어진 사용자 정의 함수를 사용해 로우마다 적용하는 것과 동일한 것\n",
    "    - 오버헤드 발생: 직렬화 -> 파이썬 프로세스에 전달 -> 처리 -> 다시 직렬화 -> JVM에 반환\n",
    "    - 따라서 구조적 API를 사용하는 것이 좋음"
   ]
  },
  {
   "cell_type": "markdown",
   "metadata": {
    "application/vnd.databricks.v1+cell": {
     "inputWidgets": {},
     "nuid": "7eb080f4-0148-4f37-90e5-9e2cd7143533",
     "showTitle": false,
     "title": ""
    }
   },
   "source": [
    "### RDD는 언제 사용할까\n",
    "- 정말 필요한 경우가 아니라면 수동으로 RDD를 생성하면 X\n",
    "- DataFrame이 RDD보다 더 효율적이고 안정적이고 표현력이 좋음\n",
    "- 물리적으로 분산된 데이터(자체적으로 구성한 데이터 파티셔닝)에 세부적인 제어가 필요할 때 RDD를 사용하는 것이 가장 적합"
   ]
  },
  {
   "cell_type": "markdown",
   "metadata": {
    "application/vnd.databricks.v1+cell": {
     "inputWidgets": {},
     "nuid": "0526bd65-d3bb-4ad5-9c75-c2cda3038a22",
     "showTitle": false,
     "title": ""
    }
   },
   "source": [
    "### Dataset과 RDD의 케이스 클래스\n",
    "https://wikidocs.net/29773\n",
    "- Dataset은 구조적 API가 제공하는 풍부한 기능과 최적화 기법을 제공한다는 점이 RDD와의 큰 차이점\n",
    "- Dataset을 사용하면 JVM 데이터 타입과 스파크 데이터 타입 중 어떤 것을 쓸지 고민하지 않아도 됨\n",
    "  - 모두 성능 동일"
   ]
  },
  {
   "cell_type": "code",
   "execution_count": null,
   "metadata": {
    "application/vnd.databricks.v1+cell": {
     "inputWidgets": {},
     "nuid": "18435954-3338-474e-a6ed-76bb9516a5ea",
     "showTitle": false,
     "title": ""
    }
   },
   "outputs": [
    {
     "data": {
      "text/html": [
       "<style scoped>\n",
       "  .ansiout {\n",
       "    display: block;\n",
       "    unicode-bidi: embed;\n",
       "    white-space: pre-wrap;\n",
       "    word-wrap: break-word;\n",
       "    word-break: break-all;\n",
       "    font-family: \"Source Code Pro\", \"Menlo\", monospace;;\n",
       "    font-size: 13px;\n",
       "    color: #555;\n",
       "    margin-left: 4px;\n",
       "    line-height: 19px;\n",
       "  }\n",
       "</style>\n",
       "<div class=\"ansiout\">Out[30]: defaultdict(int,\n",
       "            {&#39;Spark&#39;: 1,\n",
       "             &#39;The&#39;: 1,\n",
       "             &#39;Definitive&#39;: 1,\n",
       "             &#39;Guide&#39;: 1,\n",
       "             &#39;:&#39;: 1,\n",
       "             &#39;Big&#39;: 1,\n",
       "             &#39;Data&#39;: 1,\n",
       "             &#39;Processing&#39;: 1,\n",
       "             &#39;Made&#39;: 1,\n",
       "             &#39;Simple&#39;: 1})</div>"
      ]
     },
     "metadata": {
      "application/vnd.databricks.v1+output": {
       "addedWidgets": {},
       "arguments": {},
       "data": "<div class=\"ansiout\">Out[30]: defaultdict(int,\n            {&#39;Spark&#39;: 1,\n             &#39;The&#39;: 1,\n             &#39;Definitive&#39;: 1,\n             &#39;Guide&#39;: 1,\n             &#39;:&#39;: 1,\n             &#39;Big&#39;: 1,\n             &#39;Data&#39;: 1,\n             &#39;Processing&#39;: 1,\n             &#39;Made&#39;: 1,\n             &#39;Simple&#39;: 1})</div>",
       "datasetInfos": [],
       "metadata": {},
       "removedWidgets": [],
       "type": "html"
      }
     },
     "output_type": "display_data"
    }
   ],
   "source": [
    "words.countByValue()"
   ]
  },
  {
   "cell_type": "code",
   "execution_count": null,
   "metadata": {
    "application/vnd.databricks.v1+cell": {
     "inputWidgets": {},
     "nuid": "3948cd01-756c-40b9-b222-82bd09409e4c",
     "showTitle": false,
     "title": ""
    }
   },
   "outputs": [
    {
     "data": {
      "text/html": [
       "<style scoped>\n",
       "  .ansiout {\n",
       "    display: block;\n",
       "    unicode-bidi: embed;\n",
       "    white-space: pre-wrap;\n",
       "    word-wrap: break-word;\n",
       "    word-break: break-all;\n",
       "    font-family: \"Source Code Pro\", \"Menlo\", monospace;;\n",
       "    font-size: 13px;\n",
       "    color: #555;\n",
       "    margin-left: 4px;\n",
       "    line-height: 19px;\n",
       "  }\n",
       "</style>\n",
       "<div class=\"ansiout\">Out[31]: &#39;Spark&#39;</div>"
      ]
     },
     "metadata": {
      "application/vnd.databricks.v1+output": {
       "addedWidgets": {},
       "arguments": {},
       "data": "<div class=\"ansiout\">Out[31]: &#39;Spark&#39;</div>",
       "datasetInfos": [],
       "metadata": {},
       "removedWidgets": [],
       "type": "html"
      }
     },
     "output_type": "display_data"
    }
   ],
   "source": [
    "words.first()"
   ]
  },
  {
   "cell_type": "code",
   "execution_count": null,
   "metadata": {
    "application/vnd.databricks.v1+cell": {
     "inputWidgets": {},
     "nuid": "04f5ebe4-2376-4c15-bdb0-0a00bab238ad",
     "showTitle": false,
     "title": ""
    }
   },
   "outputs": [
    {
     "data": {
      "text/html": [
       "<style scoped>\n",
       "  .ansiout {\n",
       "    display: block;\n",
       "    unicode-bidi: embed;\n",
       "    white-space: pre-wrap;\n",
       "    word-wrap: break-word;\n",
       "    word-break: break-all;\n",
       "    font-family: \"Source Code Pro\", \"Menlo\", monospace;;\n",
       "    font-size: 13px;\n",
       "    color: #555;\n",
       "    margin-left: 4px;\n",
       "    line-height: 19px;\n",
       "  }\n",
       "</style>\n",
       "<div class=\"ansiout\">Out[34]: 19</div>"
      ]
     },
     "metadata": {
      "application/vnd.databricks.v1+output": {
       "addedWidgets": {},
       "arguments": {},
       "data": "<div class=\"ansiout\">Out[34]: 19</div>",
       "datasetInfos": [],
       "metadata": {},
       "removedWidgets": [],
       "type": "html"
      }
     },
     "output_type": "display_data"
    }
   ],
   "source": [
    "spark.sparkContext.parallelize(range(1,20)).max()"
   ]
  },
  {
   "cell_type": "code",
   "execution_count": null,
   "metadata": {
    "application/vnd.databricks.v1+cell": {
     "inputWidgets": {},
     "nuid": "961ea5c9-a224-4131-aead-8deb95ad3aca",
     "showTitle": false,
     "title": ""
    }
   },
   "outputs": [
    {
     "data": {
      "text/html": [
       "<style scoped>\n",
       "  .ansiout {\n",
       "    display: block;\n",
       "    unicode-bidi: embed;\n",
       "    white-space: pre-wrap;\n",
       "    word-wrap: break-word;\n",
       "    word-break: break-all;\n",
       "    font-family: \"Source Code Pro\", \"Menlo\", monospace;;\n",
       "    font-size: 13px;\n",
       "    color: #555;\n",
       "    margin-left: 4px;\n",
       "    line-height: 19px;\n",
       "  }\n",
       "</style>\n",
       "<div class=\"ansiout\">Out[35]: 1</div>"
      ]
     },
     "metadata": {
      "application/vnd.databricks.v1+output": {
       "addedWidgets": {},
       "arguments": {},
       "data": "<div class=\"ansiout\">Out[35]: 1</div>",
       "datasetInfos": [],
       "metadata": {},
       "removedWidgets": [],
       "type": "html"
      }
     },
     "output_type": "display_data"
    }
   ],
   "source": [
    "spark.sparkContext.parallelize(range(1,20)).min()"
   ]
  },
  {
   "cell_type": "code",
   "execution_count": null,
   "metadata": {
    "application/vnd.databricks.v1+cell": {
     "inputWidgets": {},
     "nuid": "ddcfe8a5-c348-4cc7-9ce8-c94b71423c9d",
     "showTitle": false,
     "title": ""
    }
   },
   "outputs": [
    {
     "data": {
      "text/html": [
       "<style scoped>\n",
       "  .ansiout {\n",
       "    display: block;\n",
       "    unicode-bidi: embed;\n",
       "    white-space: pre-wrap;\n",
       "    word-wrap: break-word;\n",
       "    word-break: break-all;\n",
       "    font-family: \"Source Code Pro\", \"Menlo\", monospace;;\n",
       "    font-size: 13px;\n",
       "    color: #555;\n",
       "    margin-left: 4px;\n",
       "    line-height: 19px;\n",
       "  }\n",
       "</style>\n",
       "<div class=\"ansiout\">Out[36]: [&#39;Spark&#39;, &#39;The&#39;, &#39;Definitive&#39;, &#39;Guide&#39;, &#39;:&#39;]</div>"
      ]
     },
     "metadata": {
      "application/vnd.databricks.v1+output": {
       "addedWidgets": {},
       "arguments": {},
       "data": "<div class=\"ansiout\">Out[36]: [&#39;Spark&#39;, &#39;The&#39;, &#39;Definitive&#39;, &#39;Guide&#39;, &#39;:&#39;]</div>",
       "datasetInfos": [],
       "metadata": {},
       "removedWidgets": [],
       "type": "html"
      }
     },
     "output_type": "display_data"
    }
   ],
   "source": [
    "words.take(5)"
   ]
  },
  {
   "cell_type": "code",
   "execution_count": null,
   "metadata": {
    "application/vnd.databricks.v1+cell": {
     "inputWidgets": {},
     "nuid": "335ae3dc-d387-48da-819b-8ae266714f50",
     "showTitle": false,
     "title": ""
    }
   },
   "outputs": [
    {
     "data": {
      "text/html": [
       "<style scoped>\n",
       "  .ansiout {\n",
       "    display: block;\n",
       "    unicode-bidi: embed;\n",
       "    white-space: pre-wrap;\n",
       "    word-wrap: break-word;\n",
       "    word-break: break-all;\n",
       "    font-family: \"Source Code Pro\", \"Menlo\", monospace;;\n",
       "    font-size: 13px;\n",
       "    color: #555;\n",
       "    margin-left: 4px;\n",
       "    line-height: 19px;\n",
       "  }\n",
       "</style>\n",
       "<div class=\"ansiout\">Out[37]: [&#39;:&#39;, &#39;Big&#39;, &#39;Data&#39;, &#39;Definitive&#39;, &#39;Guide&#39;]</div>"
      ]
     },
     "metadata": {
      "application/vnd.databricks.v1+output": {
       "addedWidgets": {},
       "arguments": {},
       "data": "<div class=\"ansiout\">Out[37]: [&#39;:&#39;, &#39;Big&#39;, &#39;Data&#39;, &#39;Definitive&#39;, &#39;Guide&#39;]</div>",
       "datasetInfos": [],
       "metadata": {},
       "removedWidgets": [],
       "type": "html"
      }
     },
     "output_type": "display_data"
    }
   ],
   "source": [
    "#정렬\n",
    "words.takeOrdered(5)"
   ]
  },
  {
   "cell_type": "code",
   "execution_count": null,
   "metadata": {
    "application/vnd.databricks.v1+cell": {
     "inputWidgets": {},
     "nuid": "86a2afef-3947-4ebc-9b8e-62feb40b51a7",
     "showTitle": false,
     "title": ""
    }
   },
   "outputs": [
    {
     "data": {
      "text/html": [
       "<style scoped>\n",
       "  .ansiout {\n",
       "    display: block;\n",
       "    unicode-bidi: embed;\n",
       "    white-space: pre-wrap;\n",
       "    word-wrap: break-word;\n",
       "    word-break: break-all;\n",
       "    font-family: \"Source Code Pro\", \"Menlo\", monospace;;\n",
       "    font-size: 13px;\n",
       "    color: #555;\n",
       "    margin-left: 4px;\n",
       "    line-height: 19px;\n",
       "  }\n",
       "</style>\n",
       "<div class=\"ansiout\">Out[38]: [&#39;The&#39;, &#39;Spark&#39;, &#39;Simple&#39;, &#39;Processing&#39;, &#39;Made&#39;]</div>"
      ]
     },
     "metadata": {
      "application/vnd.databricks.v1+output": {
       "addedWidgets": {},
       "arguments": {},
       "data": "<div class=\"ansiout\">Out[38]: [&#39;The&#39;, &#39;Spark&#39;, &#39;Simple&#39;, &#39;Processing&#39;, &#39;Made&#39;]</div>",
       "datasetInfos": [],
       "metadata": {},
       "removedWidgets": [],
       "type": "html"
      }
     },
     "output_type": "display_data"
    }
   ],
   "source": [
    "#최상윗값\n",
    "words.top(5)"
   ]
  },
  {
   "cell_type": "code",
   "execution_count": null,
   "metadata": {
    "application/vnd.databricks.v1+cell": {
     "inputWidgets": {},
     "nuid": "18de8532-8fc1-445b-9d56-8a2d45cd80e7",
     "showTitle": false,
     "title": ""
    }
   },
   "outputs": [
    {
     "data": {
      "text/html": [
       "<style scoped>\n",
       "  .ansiout {\n",
       "    display: block;\n",
       "    unicode-bidi: embed;\n",
       "    white-space: pre-wrap;\n",
       "    word-wrap: break-word;\n",
       "    word-break: break-all;\n",
       "    font-family: \"Source Code Pro\", \"Menlo\", monospace;;\n",
       "    font-size: 13px;\n",
       "    color: #555;\n",
       "    margin-left: 4px;\n",
       "    line-height: 19px;\n",
       "  }\n",
       "</style>\n",
       "<div class=\"ansiout\"></div>"
      ]
     },
     "metadata": {
      "application/vnd.databricks.v1+output": {
       "addedWidgets": {},
       "arguments": {},
       "data": "<div class=\"ansiout\"></div>",
       "datasetInfos": [],
       "metadata": {},
       "removedWidgets": [],
       "type": "html"
      }
     },
     "output_type": "display_data"
    }
   ],
   "source": [
    "words.saveAsTextFile('/FileStore/tables/bookeTitle')"
   ]
  },
  {
   "cell_type": "code",
   "execution_count": null,
   "metadata": {
    "application/vnd.databricks.v1+cell": {
     "inputWidgets": {},
     "nuid": "c25f8c30-feb4-4690-b8ec-b0696ef3eef8",
     "showTitle": false,
     "title": ""
    }
   },
   "outputs": [
    {
     "data": {
      "text/html": [
       "<style scoped>\n",
       "  .ansiout {\n",
       "    display: block;\n",
       "    unicode-bidi: embed;\n",
       "    white-space: pre-wrap;\n",
       "    word-wrap: break-word;\n",
       "    word-break: break-all;\n",
       "    font-family: \"Source Code Pro\", \"Menlo\", monospace;;\n",
       "    font-size: 13px;\n",
       "    color: #555;\n",
       "    margin-left: 4px;\n",
       "    line-height: 19px;\n",
       "  }\n",
       "</style>"
      ]
     },
     "metadata": {
      "application/vnd.databricks.v1+output": {
       "arguments": {},
       "data": "",
       "errorSummary": "",
       "errorTraceType": null,
       "metadata": {},
       "type": "ipynbError"
      }
     },
     "output_type": "display_data"
    }
   ],
   "source": [
    "words.saveAsSequenceFile('/')"
   ]
  },
  {
   "cell_type": "code",
   "execution_count": null,
   "metadata": {
    "application/vnd.databricks.v1+cell": {
     "inputWidgets": {},
     "nuid": "9239e413-8a91-4db8-b553-aad128c7776c",
     "showTitle": false,
     "title": ""
    }
   },
   "outputs": [
    {
     "data": {
      "text/html": [
       "<style scoped>\n",
       "  .ansiout {\n",
       "    display: block;\n",
       "    unicode-bidi: embed;\n",
       "    white-space: pre-wrap;\n",
       "    word-wrap: break-word;\n",
       "    word-break: break-all;\n",
       "    font-family: \"Source Code Pro\", \"Menlo\", monospace;;\n",
       "    font-size: 13px;\n",
       "    color: #555;\n",
       "    margin-left: 4px;\n",
       "    line-height: 19px;\n",
       "  }\n",
       "</style>"
      ]
     },
     "metadata": {
      "application/vnd.databricks.v1+output": {
       "arguments": {},
       "data": "",
       "errorSummary": "",
       "errorTraceType": null,
       "metadata": {},
       "type": "ipynbError"
      }
     },
     "output_type": "display_data"
    }
   ],
   "source": [
    "words.saveAsHadoopFile('/')"
   ]
  }
 ],
 "metadata": {
  "application/vnd.databricks.v1+notebook": {
   "dashboards": [],
   "language": "python",
   "notebookMetadata": {
    "pythonIndentUnit": 2
   },
   "notebookName": "Chapter12",
   "notebookOrigID": 3692525637030768,
   "widgets": {}
  },
  "kernelspec": {
   "display_name": "Python 3 (ipykernel)",
   "language": "python",
   "name": "python3"
  },
  "language_info": {
   "codemirror_mode": {
    "name": "ipython",
    "version": 3
   },
   "file_extension": ".py",
   "mimetype": "text/x-python",
   "name": "python",
   "nbconvert_exporter": "python",
   "pygments_lexer": "ipython3",
   "version": "3.9.7"
  }
 },
 "nbformat": 4,
 "nbformat_minor": 4
}
